{
 "cells": [
  {
   "cell_type": "code",
   "execution_count": 1,
   "metadata": {
    "tags": []
   },
   "outputs": [
    {
     "name": "stderr",
     "output_type": "stream",
     "text": [
      "/home/jupyter/github/fomo/.venv/lib/python3.11/site-packages/tqdm/auto.py:21: TqdmWarning: IProgress not found. Please update jupyter and ipywidgets. See https://ipywidgets.readthedocs.io/en/stable/user_install.html\n",
      "  from .autonotebook import tqdm as notebook_tqdm\n"
     ]
    }
   ],
   "source": [
    "from fomo.pipelines.train import Learner\n",
    "from fomo.pipelines.types.learner_args import LearnerArgs\n",
    "from fomo.utils.data.datasets import DatasetInitializer, PROMPTS\n",
    "import torch"
   ]
  },
  {
   "cell_type": "code",
   "execution_count": 2,
   "metadata": {
    "tags": []
   },
   "outputs": [],
   "source": [
    "NUM_OF_SAMPLES = 16"
   ]
  },
  {
   "cell_type": "code",
   "execution_count": 3,
   "metadata": {
    "tags": []
   },
   "outputs": [],
   "source": [
    "#TRAIN_SUBSAMPLES = [\"base\", \"all\"]\n",
    "#TRAIN_SUBSAMPLES = [\"base\"]\n",
    "TRAIN_SUBSAMPLES = [\"base\"]\n",
    "MODEL_TYPE = \"clip_transformer_adapter_text\"\n"
   ]
  },
  {
   "cell_type": "code",
   "execution_count": 4,
   "metadata": {
    "tags": []
   },
   "outputs": [],
   "source": [
    "#DATASETS = [\"cifar10\", \"caltech101\", \"oxford_pets\", \"oxford_flowers\", \"food101\", \"stanford_cars\", \"fgvc_aircraft\", \"dtd\", \"sun397\"]\n",
    "#DATASETS = [\"caltech101\", \"oxford_pets\", \"oxford_flowers\", \"food101\", \"stanford_cars\", \"fgvc_aircraft\", \"dtd\", \"sun397\"]\n",
    "DATASETS = [\"caltech101\", \"oxford_pets\", \"oxford_flowers\", \"fgvc_aircraft\"]\n",
    "#DATASETS = [\"cifar10\"]"
   ]
  },
  {
   "cell_type": "code",
   "execution_count": 5,
   "metadata": {
    "tags": []
   },
   "outputs": [
    {
     "name": "stdout",
     "output_type": "stream",
     "text": [
      "Training clip_transformer_adapter_text on caltech101 on base subsample.\n",
      "Files already downloaded and verified\n",
      "Files already downloaded and verified\n",
      "Files already downloaded and verified\n",
      "Files already downloaded and verified\n",
      "Files already downloaded and verified\n",
      "Files already downloaded and verified\n",
      "Turning off gradients in both the image and the text encoder\n",
      "Parameters to be updated: {'adapter.mha.in_proj_bias', 'adapter.mha.in_proj_weight', 'adapter.upsampler.0.weight', 'adapter.downsampler.0.weight', 'adapter.upsampler.2.weight', 'adapter.downsampler.0.bias', 'adapter.downsampler.1.weight', 'adapter.mha.out_proj.weight', 'adapter.upsampler.0.bias', 'adapter.downsampler.1.bias', 'adapter.upsampler.2.bias', 'adapter.mha.out_proj.bias'}\n",
      "Number of learnable paramms: 313152\n"
     ]
    },
    {
     "name": "stderr",
     "output_type": "stream",
     "text": [
      "  0%|          | 0/4 [00:00<?, ?it/s]"
     ]
    },
    {
     "name": "stdout",
     "output_type": "stream",
     "text": [
      "Epoch: [0][0/4]\tTime  3.582 ( 3.582)\tData  2.188 ( 2.188)\tLoss 2.3745e-01 (2.3745e-01)\tAcc@1  95.31 ( 95.31)\n"
     ]
    },
    {
     "name": "stderr",
     "output_type": "stream",
     "text": [
      "100%|██████████| 4/4 [00:05<00:00,  1.45s/it]\n",
      " 25%|██▌       | 1/4 [00:02<00:06,  2.15s/it]"
     ]
    },
    {
     "name": "stdout",
     "output_type": "stream",
     "text": [
      "Validate: [0/4]\tTime  2.147 ( 2.147)\tLoss 9.4687e-02 (9.4687e-02)\tPrompt Acc@1  97.27 ( 97.27)\n"
     ]
    },
    {
     "name": "stderr",
     "output_type": "stream",
     "text": [
      "100%|██████████| 4/4 [00:03<00:00,  1.06it/s]\n"
     ]
    },
    {
     "name": "stdout",
     "output_type": "stream",
     "text": [
      " * Prompt Acc@1 96.875\n",
      "saved best file\n"
     ]
    },
    {
     "name": "stderr",
     "output_type": "stream",
     "text": [
      "  0%|          | 0/4 [00:00<?, ?it/s]"
     ]
    },
    {
     "name": "stdout",
     "output_type": "stream",
     "text": [
      "Epoch: [1][0/4]\tTime  2.569 ( 2.569)\tData  1.753 ( 1.753)\tLoss 1.2477e-01 (1.2477e-01)\tAcc@1  97.66 ( 97.66)\n"
     ]
    },
    {
     "name": "stderr",
     "output_type": "stream",
     "text": [
      "100%|██████████| 4/4 [00:09<00:00,  2.27s/it]\n",
      " 25%|██▌       | 1/4 [00:02<00:07,  2.48s/it]"
     ]
    },
    {
     "name": "stdout",
     "output_type": "stream",
     "text": [
      "Validate: [0/4]\tTime  2.480 ( 2.480)\tLoss 8.5297e-02 (8.5297e-02)\tPrompt Acc@1  97.66 ( 97.66)\n"
     ]
    },
    {
     "name": "stderr",
     "output_type": "stream",
     "text": [
      "100%|██████████| 4/4 [00:04<00:00,  1.03s/it]\n"
     ]
    },
    {
     "name": "stdout",
     "output_type": "stream",
     "text": [
      " * Prompt Acc@1 96.875\n",
      "There's no improvement for 1 epochs.\n"
     ]
    },
    {
     "name": "stderr",
     "output_type": "stream",
     "text": [
      "  0%|          | 0/4 [00:00<?, ?it/s]"
     ]
    },
    {
     "name": "stdout",
     "output_type": "stream",
     "text": [
      "Epoch: [2][0/4]\tTime  2.626 ( 2.626)\tData  1.809 ( 1.809)\tLoss 9.1657e-02 (9.1657e-02)\tAcc@1  98.44 ( 98.44)\n"
     ]
    },
    {
     "name": "stderr",
     "output_type": "stream",
     "text": [
      "100%|██████████| 4/4 [00:09<00:00,  2.29s/it]\n",
      " 25%|██▌       | 1/4 [00:02<00:07,  2.63s/it]"
     ]
    },
    {
     "name": "stdout",
     "output_type": "stream",
     "text": [
      "Validate: [0/4]\tTime  2.630 ( 2.630)\tLoss 8.1959e-02 (8.1959e-02)\tPrompt Acc@1  97.27 ( 97.27)\n"
     ]
    },
    {
     "name": "stderr",
     "output_type": "stream",
     "text": [
      "100%|██████████| 4/4 [00:04<00:00,  1.08s/it]\n"
     ]
    },
    {
     "name": "stdout",
     "output_type": "stream",
     "text": [
      " * Prompt Acc@1 96.750\n",
      "There's no improvement for 2 epochs.\n"
     ]
    },
    {
     "name": "stderr",
     "output_type": "stream",
     "text": [
      "  0%|          | 0/4 [00:00<?, ?it/s]"
     ]
    },
    {
     "name": "stdout",
     "output_type": "stream",
     "text": [
      "Epoch: [3][0/4]\tTime  2.148 ( 2.148)\tData  1.349 ( 1.349)\tLoss 1.0696e-01 (1.0696e-01)\tAcc@1  96.88 ( 96.88)\n"
     ]
    },
    {
     "name": "stderr",
     "output_type": "stream",
     "text": [
      "100%|██████████| 4/4 [00:08<00:00,  2.18s/it]\n",
      " 25%|██▌       | 1/4 [00:02<00:07,  2.60s/it]"
     ]
    },
    {
     "name": "stdout",
     "output_type": "stream",
     "text": [
      "Validate: [0/4]\tTime  2.604 ( 2.604)\tLoss 7.9757e-02 (7.9757e-02)\tPrompt Acc@1  96.88 ( 96.88)\n"
     ]
    },
    {
     "name": "stderr",
     "output_type": "stream",
     "text": [
      "100%|██████████| 4/4 [00:04<00:00,  1.07s/it]\n"
     ]
    },
    {
     "name": "stdout",
     "output_type": "stream",
     "text": [
      " * Prompt Acc@1 96.750\n",
      "There's no improvement for 3 epochs.\n"
     ]
    },
    {
     "name": "stderr",
     "output_type": "stream",
     "text": [
      "  0%|          | 0/4 [00:00<?, ?it/s]"
     ]
    },
    {
     "name": "stdout",
     "output_type": "stream",
     "text": [
      "Epoch: [4][0/4]\tTime  2.620 ( 2.620)\tData  1.803 ( 1.803)\tLoss 9.9960e-02 (9.9960e-02)\tAcc@1  96.48 ( 96.48)\n"
     ]
    },
    {
     "name": "stderr",
     "output_type": "stream",
     "text": [
      "100%|██████████| 4/4 [00:09<00:00,  2.31s/it]\n",
      " 25%|██▌       | 1/4 [00:02<00:07,  2.49s/it]"
     ]
    },
    {
     "name": "stdout",
     "output_type": "stream",
     "text": [
      "Validate: [0/4]\tTime  2.495 ( 2.495)\tLoss 7.8150e-02 (7.8150e-02)\tPrompt Acc@1  96.88 ( 96.88)\n"
     ]
    },
    {
     "name": "stderr",
     "output_type": "stream",
     "text": [
      "100%|██████████| 4/4 [00:04<00:00,  1.05s/it]\n"
     ]
    },
    {
     "name": "stdout",
     "output_type": "stream",
     "text": [
      " * Prompt Acc@1 96.750\n",
      "There's no improvement for 4 epochs.\n"
     ]
    },
    {
     "name": "stderr",
     "output_type": "stream",
     "text": [
      "  0%|          | 0/4 [00:00<?, ?it/s]"
     ]
    },
    {
     "name": "stdout",
     "output_type": "stream",
     "text": [
      "Epoch: [5][0/4]\tTime  2.566 ( 2.566)\tData  1.739 ( 1.739)\tLoss 7.8921e-02 (7.8921e-02)\tAcc@1  98.44 ( 98.44)\n"
     ]
    },
    {
     "name": "stderr",
     "output_type": "stream",
     "text": [
      "100%|██████████| 4/4 [00:09<00:00,  2.34s/it]\n",
      " 25%|██▌       | 1/4 [00:02<00:06,  2.10s/it]"
     ]
    },
    {
     "name": "stdout",
     "output_type": "stream",
     "text": [
      "Validate: [0/4]\tTime  2.104 ( 2.104)\tLoss 7.6290e-02 (7.6290e-02)\tPrompt Acc@1  97.27 ( 97.27)\n"
     ]
    },
    {
     "name": "stderr",
     "output_type": "stream",
     "text": [
      "100%|██████████| 4/4 [00:03<00:00,  1.05it/s]\n"
     ]
    },
    {
     "name": "stdout",
     "output_type": "stream",
     "text": [
      " * Prompt Acc@1 97.125\n",
      "saved best file\n"
     ]
    },
    {
     "name": "stderr",
     "output_type": "stream",
     "text": [
      "  0%|          | 0/4 [00:00<?, ?it/s]"
     ]
    },
    {
     "name": "stdout",
     "output_type": "stream",
     "text": [
      "Epoch: [6][0/4]\tTime  2.672 ( 2.672)\tData  1.844 ( 1.844)\tLoss 8.4218e-02 (8.4218e-02)\tAcc@1  98.05 ( 98.05)\n"
     ]
    },
    {
     "name": "stderr",
     "output_type": "stream",
     "text": [
      "100%|██████████| 4/4 [00:09<00:00,  2.36s/it]\n",
      " 25%|██▌       | 1/4 [00:02<00:07,  2.55s/it]"
     ]
    },
    {
     "name": "stdout",
     "output_type": "stream",
     "text": [
      "Validate: [0/4]\tTime  2.553 ( 2.553)\tLoss 7.4516e-02 (7.4516e-02)\tPrompt Acc@1  97.27 ( 97.27)\n"
     ]
    },
    {
     "name": "stderr",
     "output_type": "stream",
     "text": [
      "100%|██████████| 4/4 [00:04<00:00,  1.06s/it]\n"
     ]
    },
    {
     "name": "stdout",
     "output_type": "stream",
     "text": [
      " * Prompt Acc@1 97.125\n",
      "There's no improvement for 1 epochs.\n"
     ]
    },
    {
     "name": "stderr",
     "output_type": "stream",
     "text": [
      "  0%|          | 0/4 [00:00<?, ?it/s]"
     ]
    },
    {
     "name": "stdout",
     "output_type": "stream",
     "text": [
      "Epoch: [7][0/4]\tTime  2.167 ( 2.167)\tData  1.366 ( 1.366)\tLoss 1.1142e-01 (1.1142e-01)\tAcc@1  96.09 ( 96.09)\n"
     ]
    },
    {
     "name": "stderr",
     "output_type": "stream",
     "text": [
      "100%|██████████| 4/4 [00:08<00:00,  2.23s/it]\n",
      " 25%|██▌       | 1/4 [00:02<00:06,  2.10s/it]"
     ]
    },
    {
     "name": "stdout",
     "output_type": "stream",
     "text": [
      "Validate: [0/4]\tTime  2.106 ( 2.106)\tLoss 7.4963e-02 (7.4963e-02)\tPrompt Acc@1  97.27 ( 97.27)\n"
     ]
    },
    {
     "name": "stderr",
     "output_type": "stream",
     "text": [
      "100%|██████████| 4/4 [00:03<00:00,  1.05it/s]\n"
     ]
    },
    {
     "name": "stdout",
     "output_type": "stream",
     "text": [
      " * Prompt Acc@1 97.000\n",
      "There's no improvement for 2 epochs.\n"
     ]
    },
    {
     "name": "stderr",
     "output_type": "stream",
     "text": [
      "  0%|          | 0/4 [00:00<?, ?it/s]"
     ]
    },
    {
     "name": "stdout",
     "output_type": "stream",
     "text": [
      "Epoch: [8][0/4]\tTime  2.569 ( 2.569)\tData  1.755 ( 1.755)\tLoss 8.9984e-02 (8.9984e-02)\tAcc@1  97.27 ( 97.27)\n"
     ]
    },
    {
     "name": "stderr",
     "output_type": "stream",
     "text": [
      "100%|██████████| 4/4 [00:09<00:00,  2.34s/it]\n",
      " 25%|██▌       | 1/4 [00:02<00:07,  2.52s/it]"
     ]
    },
    {
     "name": "stdout",
     "output_type": "stream",
     "text": [
      "Validate: [0/4]\tTime  2.524 ( 2.524)\tLoss 7.3691e-02 (7.3691e-02)\tPrompt Acc@1  97.27 ( 97.27)\n"
     ]
    },
    {
     "name": "stderr",
     "output_type": "stream",
     "text": [
      "100%|██████████| 4/4 [00:04<00:00,  1.05s/it]\n"
     ]
    },
    {
     "name": "stdout",
     "output_type": "stream",
     "text": [
      " * Prompt Acc@1 97.000\n",
      "There's no improvement for 3 epochs.\n"
     ]
    },
    {
     "name": "stderr",
     "output_type": "stream",
     "text": [
      "  0%|          | 0/4 [00:00<?, ?it/s]"
     ]
    },
    {
     "name": "stdout",
     "output_type": "stream",
     "text": [
      "Epoch: [9][0/4]\tTime  2.609 ( 2.609)\tData  1.794 ( 1.794)\tLoss 7.4536e-02 (7.4536e-02)\tAcc@1  98.05 ( 98.05)\n"
     ]
    },
    {
     "name": "stderr",
     "output_type": "stream",
     "text": [
      "100%|██████████| 4/4 [00:09<00:00,  2.34s/it]\n",
      " 25%|██▌       | 1/4 [00:02<00:07,  2.49s/it]"
     ]
    },
    {
     "name": "stdout",
     "output_type": "stream",
     "text": [
      "Validate: [0/4]\tTime  2.488 ( 2.488)\tLoss 7.1490e-02 (7.1490e-02)\tPrompt Acc@1  97.27 ( 97.27)\n"
     ]
    },
    {
     "name": "stderr",
     "output_type": "stream",
     "text": [
      "100%|██████████| 4/4 [00:04<00:00,  1.05s/it]\n"
     ]
    },
    {
     "name": "stdout",
     "output_type": "stream",
     "text": [
      " * Prompt Acc@1 96.875\n",
      "There's no improvement for 4 epochs.\n"
     ]
    },
    {
     "name": "stderr",
     "output_type": "stream",
     "text": [
      "  0%|          | 0/4 [00:00<?, ?it/s]"
     ]
    },
    {
     "name": "stdout",
     "output_type": "stream",
     "text": [
      "Epoch: [10][0/4]\tTime  2.167 ( 2.167)\tData  1.351 ( 1.351)\tLoss 8.2751e-02 (8.2751e-02)\tAcc@1  97.27 ( 97.27)\n"
     ]
    },
    {
     "name": "stderr",
     "output_type": "stream",
     "text": [
      "100%|██████████| 4/4 [00:08<00:00,  2.24s/it]\n",
      " 25%|██▌       | 1/4 [00:02<00:07,  2.51s/it]"
     ]
    },
    {
     "name": "stdout",
     "output_type": "stream",
     "text": [
      "Validate: [0/4]\tTime  2.510 ( 2.510)\tLoss 6.9510e-02 (6.9510e-02)\tPrompt Acc@1  97.66 ( 97.66)\n"
     ]
    },
    {
     "name": "stderr",
     "output_type": "stream",
     "text": [
      "100%|██████████| 4/4 [00:04<00:00,  1.05s/it]\n"
     ]
    },
    {
     "name": "stdout",
     "output_type": "stream",
     "text": [
      " * Prompt Acc@1 97.000\n",
      "There's no improvement for 5 epochs.\n",
      "The training halted by early stopping criterion.\n",
      "Files already downloaded and verified\n",
      "Files already downloaded and verified\n"
     ]
    },
    {
     "name": "stderr",
     "output_type": "stream",
     "text": [
      " 10%|█         | 1/10 [00:03<00:28,  3.16s/it]"
     ]
    },
    {
     "name": "stdout",
     "output_type": "stream",
     "text": [
      "Validate: [ 0/10]\tTime  3.161 ( 3.161)\tLoss 9.4060e-02 (9.4060e-02)\tPrompt Acc@1  99.61 ( 99.61)\n"
     ]
    },
    {
     "name": "stderr",
     "output_type": "stream",
     "text": [
      "100%|██████████| 10/10 [00:10<00:00,  1.03s/it]\n"
     ]
    },
    {
     "name": "stdout",
     "output_type": "stream",
     "text": [
      " * Prompt Acc@1 94.158\n",
      "Files already downloaded and verified\n",
      "Files already downloaded and verified\n"
     ]
    },
    {
     "name": "stderr",
     "output_type": "stream",
     "text": [
      " 14%|█▍        | 1/7 [00:03<00:18,  3.01s/it]"
     ]
    },
    {
     "name": "stdout",
     "output_type": "stream",
     "text": [
      "Validate: [0/7]\tTime  3.013 ( 3.013)\tLoss 4.8354e-02 (4.8354e-02)\tPrompt Acc@1  99.61 ( 99.61)\n"
     ]
    },
    {
     "name": "stderr",
     "output_type": "stream",
     "text": [
      "100%|██████████| 7/7 [00:06<00:00,  1.00it/s]\n"
     ]
    },
    {
     "name": "stdout",
     "output_type": "stream",
     "text": [
      " * Prompt Acc@1 97.224\n",
      "Files already downloaded and verified\n",
      "Files already downloaded and verified\n"
     ]
    },
    {
     "name": "stderr",
     "output_type": "stream",
     "text": [
      " 25%|██▌       | 1/4 [00:02<00:07,  2.45s/it]"
     ]
    },
    {
     "name": "stdout",
     "output_type": "stream",
     "text": [
      "Validate: [0/4]\tTime  2.456 ( 2.456)\tLoss 3.0576e-01 (3.0576e-01)\tPrompt Acc@1  87.50 ( 87.50)\n"
     ]
    },
    {
     "name": "stderr",
     "output_type": "stream",
     "text": [
      "100%|██████████| 4/4 [00:04<00:00,  1.13s/it]\n"
     ]
    },
    {
     "name": "stdout",
     "output_type": "stream",
     "text": [
      " * Prompt Acc@1 93.996\n",
      "Training clip_transformer_adapter_text on oxford_pets on base subsample.\n",
      "Turning off gradients in both the image and the text encoder\n",
      "Parameters to be updated: {'adapter.mha.in_proj_bias', 'adapter.mha.in_proj_weight', 'adapter.upsampler.0.weight', 'adapter.downsampler.0.weight', 'adapter.upsampler.2.weight', 'adapter.downsampler.0.bias', 'adapter.downsampler.1.weight', 'adapter.mha.out_proj.weight', 'adapter.upsampler.0.bias', 'adapter.downsampler.1.bias', 'adapter.upsampler.2.bias', 'adapter.mha.out_proj.bias'}\n",
      "Number of learnable paramms: 313152\n"
     ]
    },
    {
     "name": "stderr",
     "output_type": "stream",
     "text": [
      "  0%|          | 0/2 [00:00<?, ?it/s]"
     ]
    },
    {
     "name": "stdout",
     "output_type": "stream",
     "text": [
      "Epoch: [0][0/2]\tTime  2.940 ( 2.940)\tData  2.122 ( 2.122)\tLoss 3.6309e-01 (3.6309e-01)\tAcc@1  84.38 ( 84.38)\n"
     ]
    },
    {
     "name": "stderr",
     "output_type": "stream",
     "text": [
      "100%|██████████| 2/2 [00:03<00:00,  1.89s/it]\n",
      "100%|██████████| 2/2 [00:03<00:00,  1.64s/it]"
     ]
    },
    {
     "name": "stdout",
     "output_type": "stream",
     "text": [
      "Validate: [0/2]\tTime  3.123 ( 3.123)\tLoss 2.9639e-01 (2.9639e-01)\tPrompt Acc@1  91.02 ( 91.02)\n",
      " * Prompt Acc@1 90.278\n"
     ]
    },
    {
     "name": "stderr",
     "output_type": "stream",
     "text": [
      "\n"
     ]
    },
    {
     "name": "stdout",
     "output_type": "stream",
     "text": [
      "saved best file\n"
     ]
    },
    {
     "name": "stderr",
     "output_type": "stream",
     "text": [
      "  0%|          | 0/2 [00:00<?, ?it/s]"
     ]
    },
    {
     "name": "stdout",
     "output_type": "stream",
     "text": [
      "Epoch: [1][0/2]\tTime  3.151 ( 3.151)\tData  2.357 ( 2.357)\tLoss 3.1678e-01 (3.1678e-01)\tAcc@1  88.67 ( 88.67)\n"
     ]
    },
    {
     "name": "stderr",
     "output_type": "stream",
     "text": [
      "100%|██████████| 2/2 [00:08<00:00,  4.17s/it]\n",
      "100%|██████████| 2/2 [00:03<00:00,  1.54s/it]"
     ]
    },
    {
     "name": "stdout",
     "output_type": "stream",
     "text": [
      "Validate: [0/2]\tTime  2.922 ( 2.922)\tLoss 2.6195e-01 (2.6195e-01)\tPrompt Acc@1  92.19 ( 92.19)\n",
      " * Prompt Acc@1 92.014\n"
     ]
    },
    {
     "name": "stderr",
     "output_type": "stream",
     "text": [
      "\n"
     ]
    },
    {
     "name": "stdout",
     "output_type": "stream",
     "text": [
      "saved best file\n"
     ]
    },
    {
     "name": "stderr",
     "output_type": "stream",
     "text": [
      "  0%|          | 0/2 [00:00<?, ?it/s]"
     ]
    },
    {
     "name": "stdout",
     "output_type": "stream",
     "text": [
      "Epoch: [2][0/2]\tTime  2.998 ( 2.998)\tData  2.183 ( 2.183)\tLoss 2.7040e-01 (2.7040e-01)\tAcc@1  90.23 ( 90.23)\n"
     ]
    },
    {
     "name": "stderr",
     "output_type": "stream",
     "text": [
      "100%|██████████| 2/2 [00:08<00:00,  4.08s/it]\n",
      "100%|██████████| 2/2 [00:03<00:00,  1.55s/it]"
     ]
    },
    {
     "name": "stdout",
     "output_type": "stream",
     "text": [
      "Validate: [0/2]\tTime  2.946 ( 2.946)\tLoss 2.4779e-01 (2.4779e-01)\tPrompt Acc@1  92.97 ( 92.97)\n",
      " * Prompt Acc@1 92.708\n"
     ]
    },
    {
     "name": "stderr",
     "output_type": "stream",
     "text": [
      "\n"
     ]
    },
    {
     "name": "stdout",
     "output_type": "stream",
     "text": [
      "saved best file\n"
     ]
    },
    {
     "name": "stderr",
     "output_type": "stream",
     "text": [
      "  0%|          | 0/2 [00:00<?, ?it/s]"
     ]
    },
    {
     "name": "stdout",
     "output_type": "stream",
     "text": [
      "Epoch: [3][0/2]\tTime  3.066 ( 3.066)\tData  2.274 ( 2.274)\tLoss 2.4189e-01 (2.4189e-01)\tAcc@1  92.58 ( 92.58)\n"
     ]
    },
    {
     "name": "stderr",
     "output_type": "stream",
     "text": [
      "100%|██████████| 2/2 [00:08<00:00,  4.05s/it]\n",
      "100%|██████████| 2/2 [00:03<00:00,  1.57s/it]"
     ]
    },
    {
     "name": "stdout",
     "output_type": "stream",
     "text": [
      "Validate: [0/2]\tTime  2.971 ( 2.971)\tLoss 2.5315e-01 (2.5315e-01)\tPrompt Acc@1  92.19 ( 92.19)\n",
      " * Prompt Acc@1 92.014\n"
     ]
    },
    {
     "name": "stderr",
     "output_type": "stream",
     "text": [
      "\n"
     ]
    },
    {
     "name": "stdout",
     "output_type": "stream",
     "text": [
      "There's no improvement for 1 epochs.\n"
     ]
    },
    {
     "name": "stderr",
     "output_type": "stream",
     "text": [
      "  0%|          | 0/2 [00:00<?, ?it/s]"
     ]
    },
    {
     "name": "stdout",
     "output_type": "stream",
     "text": [
      "Epoch: [4][0/2]\tTime  3.061 ( 3.061)\tData  2.266 ( 2.266)\tLoss 2.4947e-01 (2.4947e-01)\tAcc@1  92.19 ( 92.19)\n"
     ]
    },
    {
     "name": "stderr",
     "output_type": "stream",
     "text": [
      "100%|██████████| 2/2 [00:08<00:00,  4.09s/it]\n",
      "100%|██████████| 2/2 [00:03<00:00,  1.70s/it]"
     ]
    },
    {
     "name": "stdout",
     "output_type": "stream",
     "text": [
      "Validate: [0/2]\tTime  3.240 ( 3.240)\tLoss 2.5467e-01 (2.5467e-01)\tPrompt Acc@1  91.80 ( 91.80)\n",
      " * Prompt Acc@1 91.667\n"
     ]
    },
    {
     "name": "stderr",
     "output_type": "stream",
     "text": [
      "\n"
     ]
    },
    {
     "name": "stdout",
     "output_type": "stream",
     "text": [
      "There's no improvement for 2 epochs.\n"
     ]
    },
    {
     "name": "stderr",
     "output_type": "stream",
     "text": [
      "  0%|          | 0/2 [00:00<?, ?it/s]"
     ]
    },
    {
     "name": "stdout",
     "output_type": "stream",
     "text": [
      "Epoch: [5][0/2]\tTime  3.153 ( 3.153)\tData  2.364 ( 2.364)\tLoss 2.2651e-01 (2.2651e-01)\tAcc@1  91.80 ( 91.80)\n"
     ]
    },
    {
     "name": "stderr",
     "output_type": "stream",
     "text": [
      "100%|██████████| 2/2 [00:08<00:00,  4.19s/it]\n",
      "100%|██████████| 2/2 [00:03<00:00,  1.56s/it]"
     ]
    },
    {
     "name": "stdout",
     "output_type": "stream",
     "text": [
      "Validate: [0/2]\tTime  2.977 ( 2.977)\tLoss 2.5372e-01 (2.5372e-01)\tPrompt Acc@1  92.58 ( 92.58)\n",
      " * Prompt Acc@1 92.014\n"
     ]
    },
    {
     "name": "stderr",
     "output_type": "stream",
     "text": [
      "\n"
     ]
    },
    {
     "name": "stdout",
     "output_type": "stream",
     "text": [
      "There's no improvement for 3 epochs.\n"
     ]
    },
    {
     "name": "stderr",
     "output_type": "stream",
     "text": [
      "  0%|          | 0/2 [00:00<?, ?it/s]"
     ]
    },
    {
     "name": "stdout",
     "output_type": "stream",
     "text": [
      "Epoch: [6][0/2]\tTime  3.114 ( 3.114)\tData  2.339 ( 2.339)\tLoss 2.3872e-01 (2.3872e-01)\tAcc@1  91.80 ( 91.80)\n"
     ]
    },
    {
     "name": "stderr",
     "output_type": "stream",
     "text": [
      "100%|██████████| 2/2 [00:08<00:00,  4.23s/it]\n",
      "100%|██████████| 2/2 [00:03<00:00,  1.56s/it]"
     ]
    },
    {
     "name": "stdout",
     "output_type": "stream",
     "text": [
      "Validate: [0/2]\tTime  2.962 ( 2.962)\tLoss 2.5035e-01 (2.5035e-01)\tPrompt Acc@1  92.19 ( 92.19)\n",
      " * Prompt Acc@1 91.667\n"
     ]
    },
    {
     "name": "stderr",
     "output_type": "stream",
     "text": [
      "\n"
     ]
    },
    {
     "name": "stdout",
     "output_type": "stream",
     "text": [
      "There's no improvement for 4 epochs.\n"
     ]
    },
    {
     "name": "stderr",
     "output_type": "stream",
     "text": [
      "  0%|          | 0/2 [00:00<?, ?it/s]"
     ]
    },
    {
     "name": "stdout",
     "output_type": "stream",
     "text": [
      "Epoch: [7][0/2]\tTime  3.021 ( 3.021)\tData  2.231 ( 2.231)\tLoss 2.3005e-01 (2.3005e-01)\tAcc@1  92.97 ( 92.97)\n"
     ]
    },
    {
     "name": "stderr",
     "output_type": "stream",
     "text": [
      "100%|██████████| 2/2 [00:08<00:00,  4.21s/it]\n",
      "100%|██████████| 2/2 [00:03<00:00,  1.55s/it]"
     ]
    },
    {
     "name": "stdout",
     "output_type": "stream",
     "text": [
      "Validate: [0/2]\tTime  2.948 ( 2.948)\tLoss 2.4800e-01 (2.4800e-01)\tPrompt Acc@1  92.19 ( 92.19)\n",
      " * Prompt Acc@1 91.667\n"
     ]
    },
    {
     "name": "stderr",
     "output_type": "stream",
     "text": [
      "\n"
     ]
    },
    {
     "name": "stdout",
     "output_type": "stream",
     "text": [
      "There's no improvement for 5 epochs.\n",
      "The training halted by early stopping criterion.\n"
     ]
    },
    {
     "name": "stderr",
     "output_type": "stream",
     "text": [
      "  7%|▋         | 1/15 [00:04<00:58,  4.16s/it]"
     ]
    },
    {
     "name": "stdout",
     "output_type": "stream",
     "text": [
      "Validate: [ 0/15]\tTime  4.154 ( 4.154)\tLoss 6.0351e-01 (6.0351e-01)\tPrompt Acc@1  80.47 ( 80.47)\n"
     ]
    },
    {
     "name": "stderr",
     "output_type": "stream",
     "text": [
      "100%|██████████| 15/15 [00:15<00:00,  1.00s/it]\n"
     ]
    },
    {
     "name": "stdout",
     "output_type": "stream",
     "text": [
      " * Prompt Acc@1 89.916\n"
     ]
    },
    {
     "name": "stderr",
     "output_type": "stream",
     "text": [
      " 14%|█▍        | 1/7 [00:04<00:25,  4.19s/it]"
     ]
    },
    {
     "name": "stdout",
     "output_type": "stream",
     "text": [
      "Validate: [0/7]\tTime  4.187 ( 4.187)\tLoss 3.1668e-01 (3.1668e-01)\tPrompt Acc@1  90.23 ( 90.23)\n"
     ]
    },
    {
     "name": "stderr",
     "output_type": "stream",
     "text": [
      "100%|██████████| 7/7 [00:08<00:00,  1.26s/it]\n"
     ]
    },
    {
     "name": "stdout",
     "output_type": "stream",
     "text": [
      " * Prompt Acc@1 94.220\n"
     ]
    },
    {
     "name": "stderr",
     "output_type": "stream",
     "text": [
      " 12%|█▎        | 1/8 [00:04<00:29,  4.18s/it]"
     ]
    },
    {
     "name": "stdout",
     "output_type": "stream",
     "text": [
      "Validate: [0/8]\tTime  4.183 ( 4.183)\tLoss 2.2891e-01 (2.2891e-01)\tPrompt Acc@1  94.14 ( 94.14)\n"
     ]
    },
    {
     "name": "stderr",
     "output_type": "stream",
     "text": [
      "100%|██████████| 8/8 [00:09<00:00,  1.15s/it]\n"
     ]
    },
    {
     "name": "stdout",
     "output_type": "stream",
     "text": [
      " * Prompt Acc@1 96.926\n",
      "Training clip_transformer_adapter_text on oxford_flowers on base subsample.\n",
      "Turning off gradients in both the image and the text encoder\n",
      "Parameters to be updated: {'adapter.mha.in_proj_bias', 'adapter.mha.in_proj_weight', 'adapter.upsampler.0.weight', 'adapter.downsampler.0.weight', 'adapter.upsampler.2.weight', 'adapter.downsampler.0.bias', 'adapter.downsampler.1.weight', 'adapter.mha.out_proj.weight', 'adapter.upsampler.0.bias', 'adapter.downsampler.1.bias', 'adapter.upsampler.2.bias', 'adapter.mha.out_proj.bias'}\n",
      "Number of learnable paramms: 313152\n"
     ]
    },
    {
     "name": "stderr",
     "output_type": "stream",
     "text": [
      "  0%|          | 0/4 [00:00<?, ?it/s]"
     ]
    },
    {
     "name": "stdout",
     "output_type": "stream",
     "text": [
      "Epoch: [0][0/4]\tTime  4.278 ( 4.278)\tData  3.491 ( 3.491)\tLoss 1.0814e+00 (1.0814e+00)\tAcc@1  68.36 ( 68.36)\n"
     ]
    },
    {
     "name": "stderr",
     "output_type": "stream",
     "text": [
      "100%|██████████| 4/4 [00:06<00:00,  1.69s/it]\n",
      " 25%|██▌       | 1/4 [00:03<00:10,  3.54s/it]"
     ]
    },
    {
     "name": "stdout",
     "output_type": "stream",
     "text": [
      "Validate: [0/4]\tTime  3.540 ( 3.540)\tLoss 1.0471e+00 (1.0471e+00)\tPrompt Acc@1  74.22 ( 74.22)\n"
     ]
    },
    {
     "name": "stderr",
     "output_type": "stream",
     "text": [
      "100%|██████████| 4/4 [00:05<00:00,  1.36s/it]\n"
     ]
    },
    {
     "name": "stdout",
     "output_type": "stream",
     "text": [
      " * Prompt Acc@1 72.794\n",
      "saved best file\n"
     ]
    },
    {
     "name": "stderr",
     "output_type": "stream",
     "text": [
      "  0%|          | 0/4 [00:00<?, ?it/s]"
     ]
    },
    {
     "name": "stdout",
     "output_type": "stream",
     "text": [
      "Epoch: [1][0/4]\tTime  3.576 ( 3.576)\tData  2.756 ( 2.756)\tLoss 1.0569e+00 (1.0569e+00)\tAcc@1  69.53 ( 69.53)\n"
     ]
    },
    {
     "name": "stderr",
     "output_type": "stream",
     "text": [
      "100%|██████████| 4/4 [00:10<00:00,  2.65s/it]\n",
      " 25%|██▌       | 1/4 [00:03<00:10,  3.52s/it]"
     ]
    },
    {
     "name": "stdout",
     "output_type": "stream",
     "text": [
      "Validate: [0/4]\tTime  3.527 ( 3.527)\tLoss 1.1944e+00 (1.1944e+00)\tPrompt Acc@1  69.92 ( 69.92)\n"
     ]
    },
    {
     "name": "stderr",
     "output_type": "stream",
     "text": [
      "100%|██████████| 4/4 [00:05<00:00,  1.37s/it]\n"
     ]
    },
    {
     "name": "stdout",
     "output_type": "stream",
     "text": [
      " * Prompt Acc@1 69.363\n",
      "There's no improvement for 1 epochs.\n"
     ]
    },
    {
     "name": "stderr",
     "output_type": "stream",
     "text": [
      "  0%|          | 0/4 [00:00<?, ?it/s]"
     ]
    },
    {
     "name": "stdout",
     "output_type": "stream",
     "text": [
      "Epoch: [2][0/4]\tTime  4.253 ( 4.253)\tData  3.454 ( 3.454)\tLoss 1.1581e+00 (1.1581e+00)\tAcc@1  69.14 ( 69.14)\n"
     ]
    },
    {
     "name": "stderr",
     "output_type": "stream",
     "text": [
      "100%|██████████| 4/4 [00:10<00:00,  2.73s/it]\n",
      " 25%|██▌       | 1/4 [00:03<00:11,  3.67s/it]"
     ]
    },
    {
     "name": "stdout",
     "output_type": "stream",
     "text": [
      "Validate: [0/4]\tTime  3.673 ( 3.673)\tLoss 1.0011e+00 (1.0011e+00)\tPrompt Acc@1  73.83 ( 73.83)\n"
     ]
    },
    {
     "name": "stderr",
     "output_type": "stream",
     "text": [
      "100%|██████████| 4/4 [00:05<00:00,  1.40s/it]\n"
     ]
    },
    {
     "name": "stdout",
     "output_type": "stream",
     "text": [
      " * Prompt Acc@1 73.039\n",
      "saved best file\n"
     ]
    },
    {
     "name": "stderr",
     "output_type": "stream",
     "text": [
      "  0%|          | 0/4 [00:00<?, ?it/s]"
     ]
    },
    {
     "name": "stdout",
     "output_type": "stream",
     "text": [
      "Epoch: [3][0/4]\tTime  4.776 ( 4.776)\tData  3.958 ( 3.958)\tLoss 9.8870e-01 (9.8870e-01)\tAcc@1  71.88 ( 71.88)\n"
     ]
    },
    {
     "name": "stderr",
     "output_type": "stream",
     "text": [
      "100%|██████████| 4/4 [00:11<00:00,  2.87s/it]\n",
      " 25%|██▌       | 1/4 [00:04<00:13,  4.35s/it]"
     ]
    },
    {
     "name": "stdout",
     "output_type": "stream",
     "text": [
      "Validate: [0/4]\tTime  4.353 ( 4.353)\tLoss 9.9112e-01 (9.9112e-01)\tPrompt Acc@1  75.00 ( 75.00)\n"
     ]
    },
    {
     "name": "stderr",
     "output_type": "stream",
     "text": [
      "100%|██████████| 4/4 [00:06<00:00,  1.52s/it]\n"
     ]
    },
    {
     "name": "stdout",
     "output_type": "stream",
     "text": [
      " * Prompt Acc@1 73.529\n",
      "saved best file\n"
     ]
    },
    {
     "name": "stderr",
     "output_type": "stream",
     "text": [
      "  0%|          | 0/4 [00:00<?, ?it/s]"
     ]
    },
    {
     "name": "stdout",
     "output_type": "stream",
     "text": [
      "Epoch: [4][0/4]\tTime  3.554 ( 3.554)\tData  2.749 ( 2.749)\tLoss 9.6925e-01 (9.6925e-01)\tAcc@1  73.05 ( 73.05)\n"
     ]
    },
    {
     "name": "stderr",
     "output_type": "stream",
     "text": [
      "100%|██████████| 4/4 [00:10<00:00,  2.59s/it]\n",
      " 25%|██▌       | 1/4 [00:04<00:12,  4.22s/it]"
     ]
    },
    {
     "name": "stdout",
     "output_type": "stream",
     "text": [
      "Validate: [0/4]\tTime  4.225 ( 4.225)\tLoss 9.7567e-01 (9.7567e-01)\tPrompt Acc@1  74.61 ( 74.61)\n"
     ]
    },
    {
     "name": "stderr",
     "output_type": "stream",
     "text": [
      "100%|██████████| 4/4 [00:05<00:00,  1.50s/it]\n"
     ]
    },
    {
     "name": "stdout",
     "output_type": "stream",
     "text": [
      " * Prompt Acc@1 73.529\n",
      "saved best file\n"
     ]
    },
    {
     "name": "stderr",
     "output_type": "stream",
     "text": [
      "  0%|          | 0/4 [00:00<?, ?it/s]"
     ]
    },
    {
     "name": "stdout",
     "output_type": "stream",
     "text": [
      "Epoch: [5][0/4]\tTime  3.662 ( 3.662)\tData  2.835 ( 2.835)\tLoss 8.8932e-01 (8.8932e-01)\tAcc@1  74.61 ( 74.61)\n"
     ]
    },
    {
     "name": "stderr",
     "output_type": "stream",
     "text": [
      "100%|██████████| 4/4 [00:10<00:00,  2.61s/it]\n",
      " 25%|██▌       | 1/4 [00:04<00:12,  4.20s/it]"
     ]
    },
    {
     "name": "stdout",
     "output_type": "stream",
     "text": [
      "Validate: [0/4]\tTime  4.198 ( 4.198)\tLoss 9.6856e-01 (9.6856e-01)\tPrompt Acc@1  74.22 ( 74.22)\n"
     ]
    },
    {
     "name": "stderr",
     "output_type": "stream",
     "text": [
      "100%|██████████| 4/4 [00:05<00:00,  1.49s/it]\n"
     ]
    },
    {
     "name": "stdout",
     "output_type": "stream",
     "text": [
      " * Prompt Acc@1 73.652\n",
      "saved best file\n"
     ]
    },
    {
     "name": "stderr",
     "output_type": "stream",
     "text": [
      "  0%|          | 0/4 [00:00<?, ?it/s]"
     ]
    },
    {
     "name": "stdout",
     "output_type": "stream",
     "text": [
      "Epoch: [6][0/4]\tTime  3.577 ( 3.577)\tData  2.770 ( 2.770)\tLoss 9.2252e-01 (9.2252e-01)\tAcc@1  70.31 ( 70.31)\n"
     ]
    },
    {
     "name": "stderr",
     "output_type": "stream",
     "text": [
      "100%|██████████| 4/4 [00:10<00:00,  2.65s/it]\n",
      " 25%|██▌       | 1/4 [00:04<00:12,  4.23s/it]"
     ]
    },
    {
     "name": "stdout",
     "output_type": "stream",
     "text": [
      "Validate: [0/4]\tTime  4.232 ( 4.232)\tLoss 9.6532e-01 (9.6532e-01)\tPrompt Acc@1  74.22 ( 74.22)\n"
     ]
    },
    {
     "name": "stderr",
     "output_type": "stream",
     "text": [
      "100%|██████████| 4/4 [00:05<00:00,  1.50s/it]\n"
     ]
    },
    {
     "name": "stdout",
     "output_type": "stream",
     "text": [
      " * Prompt Acc@1 73.529\n",
      "There's no improvement for 1 epochs.\n"
     ]
    },
    {
     "name": "stderr",
     "output_type": "stream",
     "text": [
      "  0%|          | 0/4 [00:00<?, ?it/s]"
     ]
    },
    {
     "name": "stdout",
     "output_type": "stream",
     "text": [
      "Epoch: [7][0/4]\tTime  3.600 ( 3.600)\tData  2.766 ( 2.766)\tLoss 9.3146e-01 (9.3146e-01)\tAcc@1  73.05 ( 73.05)\n"
     ]
    },
    {
     "name": "stderr",
     "output_type": "stream",
     "text": [
      "100%|██████████| 4/4 [00:10<00:00,  2.61s/it]\n",
      " 25%|██▌       | 1/4 [00:04<00:13,  4.49s/it]"
     ]
    },
    {
     "name": "stdout",
     "output_type": "stream",
     "text": [
      "Validate: [0/4]\tTime  4.489 ( 4.489)\tLoss 9.6343e-01 (9.6343e-01)\tPrompt Acc@1  74.61 ( 74.61)\n"
     ]
    },
    {
     "name": "stderr",
     "output_type": "stream",
     "text": [
      "100%|██████████| 4/4 [00:06<00:00,  1.56s/it]\n"
     ]
    },
    {
     "name": "stdout",
     "output_type": "stream",
     "text": [
      " * Prompt Acc@1 73.652\n",
      "There's no improvement for 2 epochs.\n"
     ]
    },
    {
     "name": "stderr",
     "output_type": "stream",
     "text": [
      "  0%|          | 0/4 [00:00<?, ?it/s]"
     ]
    },
    {
     "name": "stdout",
     "output_type": "stream",
     "text": [
      "Epoch: [8][0/4]\tTime  3.590 ( 3.590)\tData  2.766 ( 2.766)\tLoss 1.0236e+00 (1.0236e+00)\tAcc@1  71.09 ( 71.09)\n"
     ]
    },
    {
     "name": "stderr",
     "output_type": "stream",
     "text": [
      "100%|██████████| 4/4 [00:10<00:00,  2.59s/it]\n",
      " 25%|██▌       | 1/4 [00:04<00:12,  4.21s/it]"
     ]
    },
    {
     "name": "stdout",
     "output_type": "stream",
     "text": [
      "Validate: [0/4]\tTime  4.212 ( 4.212)\tLoss 9.5991e-01 (9.5991e-01)\tPrompt Acc@1  74.22 ( 74.22)\n"
     ]
    },
    {
     "name": "stderr",
     "output_type": "stream",
     "text": [
      "100%|██████████| 4/4 [00:05<00:00,  1.49s/it]\n"
     ]
    },
    {
     "name": "stdout",
     "output_type": "stream",
     "text": [
      " * Prompt Acc@1 73.652\n",
      "There's no improvement for 3 epochs.\n"
     ]
    },
    {
     "name": "stderr",
     "output_type": "stream",
     "text": [
      "  0%|          | 0/4 [00:00<?, ?it/s]"
     ]
    },
    {
     "name": "stdout",
     "output_type": "stream",
     "text": [
      "Epoch: [9][0/4]\tTime  3.560 ( 3.560)\tData  2.748 ( 2.748)\tLoss 9.2798e-01 (9.2798e-01)\tAcc@1  76.17 ( 76.17)\n"
     ]
    },
    {
     "name": "stderr",
     "output_type": "stream",
     "text": [
      "100%|██████████| 4/4 [00:10<00:00,  2.66s/it]\n",
      " 25%|██▌       | 1/4 [00:04<00:12,  4.29s/it]"
     ]
    },
    {
     "name": "stdout",
     "output_type": "stream",
     "text": [
      "Validate: [0/4]\tTime  4.287 ( 4.287)\tLoss 9.5546e-01 (9.5546e-01)\tPrompt Acc@1  74.22 ( 74.22)\n"
     ]
    },
    {
     "name": "stderr",
     "output_type": "stream",
     "text": [
      "100%|██████████| 4/4 [00:06<00:00,  1.51s/it]\n"
     ]
    },
    {
     "name": "stdout",
     "output_type": "stream",
     "text": [
      " * Prompt Acc@1 73.775\n",
      "saved best file\n"
     ]
    },
    {
     "name": "stderr",
     "output_type": "stream",
     "text": [
      "  0%|          | 0/4 [00:00<?, ?it/s]"
     ]
    },
    {
     "name": "stdout",
     "output_type": "stream",
     "text": [
      "Epoch: [10][0/4]\tTime  4.287 ( 4.287)\tData  3.467 ( 3.467)\tLoss 8.9329e-01 (8.9329e-01)\tAcc@1  73.83 ( 73.83)\n"
     ]
    },
    {
     "name": "stderr",
     "output_type": "stream",
     "text": [
      "100%|██████████| 4/4 [00:11<00:00,  2.82s/it]\n",
      " 25%|██▌       | 1/4 [00:04<00:12,  4.23s/it]"
     ]
    },
    {
     "name": "stdout",
     "output_type": "stream",
     "text": [
      "Validate: [0/4]\tTime  4.229 ( 4.229)\tLoss 9.5050e-01 (9.5050e-01)\tPrompt Acc@1  73.83 ( 73.83)\n"
     ]
    },
    {
     "name": "stderr",
     "output_type": "stream",
     "text": [
      "100%|██████████| 4/4 [00:05<00:00,  1.50s/it]\n"
     ]
    },
    {
     "name": "stdout",
     "output_type": "stream",
     "text": [
      " * Prompt Acc@1 73.775\n",
      "There's no improvement for 1 epochs.\n"
     ]
    },
    {
     "name": "stderr",
     "output_type": "stream",
     "text": [
      "  0%|          | 0/4 [00:00<?, ?it/s]"
     ]
    },
    {
     "name": "stdout",
     "output_type": "stream",
     "text": [
      "Epoch: [11][0/4]\tTime  4.388 ( 4.388)\tData  3.552 ( 3.552)\tLoss 9.4108e-01 (9.4108e-01)\tAcc@1  74.22 ( 74.22)\n"
     ]
    },
    {
     "name": "stderr",
     "output_type": "stream",
     "text": [
      "100%|██████████| 4/4 [00:11<00:00,  2.80s/it]\n",
      " 25%|██▌       | 1/4 [00:04<00:12,  4.25s/it]"
     ]
    },
    {
     "name": "stdout",
     "output_type": "stream",
     "text": [
      "Validate: [0/4]\tTime  4.254 ( 4.254)\tLoss 9.4848e-01 (9.4848e-01)\tPrompt Acc@1  74.22 ( 74.22)\n"
     ]
    },
    {
     "name": "stderr",
     "output_type": "stream",
     "text": [
      "100%|██████████| 4/4 [00:06<00:00,  1.51s/it]\n"
     ]
    },
    {
     "name": "stdout",
     "output_type": "stream",
     "text": [
      " * Prompt Acc@1 74.142\n",
      "saved best file\n"
     ]
    },
    {
     "name": "stderr",
     "output_type": "stream",
     "text": [
      "  0%|          | 0/4 [00:00<?, ?it/s]"
     ]
    },
    {
     "name": "stdout",
     "output_type": "stream",
     "text": [
      "Epoch: [12][0/4]\tTime  3.578 ( 3.578)\tData  2.758 ( 2.758)\tLoss 9.6278e-01 (9.6278e-01)\tAcc@1  72.66 ( 72.66)\n"
     ]
    },
    {
     "name": "stderr",
     "output_type": "stream",
     "text": [
      "100%|██████████| 4/4 [00:10<00:00,  2.64s/it]\n",
      " 25%|██▌       | 1/4 [00:04<00:12,  4.27s/it]"
     ]
    },
    {
     "name": "stdout",
     "output_type": "stream",
     "text": [
      "Validate: [0/4]\tTime  4.270 ( 4.270)\tLoss 9.4598e-01 (9.4598e-01)\tPrompt Acc@1  75.00 ( 75.00)\n"
     ]
    },
    {
     "name": "stderr",
     "output_type": "stream",
     "text": [
      "100%|██████████| 4/4 [00:06<00:00,  1.51s/it]\n"
     ]
    },
    {
     "name": "stdout",
     "output_type": "stream",
     "text": [
      " * Prompt Acc@1 74.387\n",
      "saved best file\n"
     ]
    },
    {
     "name": "stderr",
     "output_type": "stream",
     "text": [
      "  0%|          | 0/4 [00:00<?, ?it/s]"
     ]
    },
    {
     "name": "stdout",
     "output_type": "stream",
     "text": [
      "Epoch: [13][0/4]\tTime  3.581 ( 3.581)\tData  2.742 ( 2.742)\tLoss 9.2205e-01 (9.2205e-01)\tAcc@1  73.83 ( 73.83)\n"
     ]
    },
    {
     "name": "stderr",
     "output_type": "stream",
     "text": [
      "100%|██████████| 4/4 [00:10<00:00,  2.58s/it]\n",
      " 25%|██▌       | 1/4 [00:04<00:12,  4.31s/it]"
     ]
    },
    {
     "name": "stdout",
     "output_type": "stream",
     "text": [
      "Validate: [0/4]\tTime  4.312 ( 4.312)\tLoss 9.4477e-01 (9.4477e-01)\tPrompt Acc@1  74.61 ( 74.61)\n"
     ]
    },
    {
     "name": "stderr",
     "output_type": "stream",
     "text": [
      "100%|██████████| 4/4 [00:06<00:00,  1.52s/it]\n"
     ]
    },
    {
     "name": "stdout",
     "output_type": "stream",
     "text": [
      " * Prompt Acc@1 74.020\n",
      "There's no improvement for 1 epochs.\n"
     ]
    },
    {
     "name": "stderr",
     "output_type": "stream",
     "text": [
      "  0%|          | 0/4 [00:00<?, ?it/s]"
     ]
    },
    {
     "name": "stdout",
     "output_type": "stream",
     "text": [
      "Epoch: [14][0/4]\tTime  3.584 ( 3.584)\tData  2.746 ( 2.746)\tLoss 8.5549e-01 (8.5549e-01)\tAcc@1  75.78 ( 75.78)\n"
     ]
    },
    {
     "name": "stderr",
     "output_type": "stream",
     "text": [
      "100%|██████████| 4/4 [00:10<00:00,  2.61s/it]\n",
      " 25%|██▌       | 1/4 [00:04<00:12,  4.23s/it]"
     ]
    },
    {
     "name": "stdout",
     "output_type": "stream",
     "text": [
      "Validate: [0/4]\tTime  4.232 ( 4.232)\tLoss 9.5012e-01 (9.5012e-01)\tPrompt Acc@1  74.22 ( 74.22)\n"
     ]
    },
    {
     "name": "stderr",
     "output_type": "stream",
     "text": [
      "100%|██████████| 4/4 [00:06<00:00,  1.50s/it]\n"
     ]
    },
    {
     "name": "stdout",
     "output_type": "stream",
     "text": [
      " * Prompt Acc@1 73.529\n",
      "There's no improvement for 2 epochs.\n"
     ]
    },
    {
     "name": "stderr",
     "output_type": "stream",
     "text": [
      "  0%|          | 0/4 [00:00<?, ?it/s]"
     ]
    },
    {
     "name": "stdout",
     "output_type": "stream",
     "text": [
      "Epoch: [15][0/4]\tTime  4.287 ( 4.287)\tData  3.445 ( 3.445)\tLoss 8.8888e-01 (8.8888e-01)\tAcc@1  75.00 ( 75.00)\n"
     ]
    },
    {
     "name": "stderr",
     "output_type": "stream",
     "text": [
      "100%|██████████| 4/4 [00:11<00:00,  2.83s/it]\n",
      " 25%|██▌       | 1/4 [00:03<00:10,  3.58s/it]"
     ]
    },
    {
     "name": "stdout",
     "output_type": "stream",
     "text": [
      "Validate: [0/4]\tTime  3.579 ( 3.579)\tLoss 9.5207e-01 (9.5207e-01)\tPrompt Acc@1  76.17 ( 76.17)\n"
     ]
    },
    {
     "name": "stderr",
     "output_type": "stream",
     "text": [
      "100%|██████████| 4/4 [00:05<00:00,  1.37s/it]\n"
     ]
    },
    {
     "name": "stdout",
     "output_type": "stream",
     "text": [
      " * Prompt Acc@1 74.265\n",
      "There's no improvement for 3 epochs.\n"
     ]
    },
    {
     "name": "stderr",
     "output_type": "stream",
     "text": [
      "  0%|          | 0/4 [00:00<?, ?it/s]"
     ]
    },
    {
     "name": "stdout",
     "output_type": "stream",
     "text": [
      "Epoch: [16][0/4]\tTime  3.584 ( 3.584)\tData  2.767 ( 2.767)\tLoss 8.9122e-01 (8.9122e-01)\tAcc@1  73.05 ( 73.05)\n"
     ]
    },
    {
     "name": "stderr",
     "output_type": "stream",
     "text": [
      "100%|██████████| 4/4 [00:10<00:00,  2.60s/it]\n",
      " 25%|██▌       | 1/4 [00:04<00:13,  4.35s/it]"
     ]
    },
    {
     "name": "stdout",
     "output_type": "stream",
     "text": [
      "Validate: [0/4]\tTime  4.347 ( 4.347)\tLoss 9.4870e-01 (9.4870e-01)\tPrompt Acc@1  76.95 ( 76.95)\n"
     ]
    },
    {
     "name": "stderr",
     "output_type": "stream",
     "text": [
      "100%|██████████| 4/4 [00:06<00:00,  1.53s/it]\n"
     ]
    },
    {
     "name": "stdout",
     "output_type": "stream",
     "text": [
      " * Prompt Acc@1 74.632\n",
      "saved best file\n"
     ]
    },
    {
     "name": "stderr",
     "output_type": "stream",
     "text": [
      "  0%|          | 0/4 [00:00<?, ?it/s]"
     ]
    },
    {
     "name": "stdout",
     "output_type": "stream",
     "text": [
      "Epoch: [17][0/4]\tTime  3.553 ( 3.553)\tData  2.718 ( 2.718)\tLoss 9.4983e-01 (9.4983e-01)\tAcc@1  72.66 ( 72.66)\n"
     ]
    },
    {
     "name": "stderr",
     "output_type": "stream",
     "text": [
      "100%|██████████| 4/4 [00:10<00:00,  2.65s/it]\n",
      " 25%|██▌       | 1/4 [00:04<00:12,  4.20s/it]"
     ]
    },
    {
     "name": "stdout",
     "output_type": "stream",
     "text": [
      "Validate: [0/4]\tTime  4.200 ( 4.200)\tLoss 9.4573e-01 (9.4573e-01)\tPrompt Acc@1  76.95 ( 76.95)\n"
     ]
    },
    {
     "name": "stderr",
     "output_type": "stream",
     "text": [
      "100%|██████████| 4/4 [00:05<00:00,  1.49s/it]\n"
     ]
    },
    {
     "name": "stdout",
     "output_type": "stream",
     "text": [
      " * Prompt Acc@1 74.632\n",
      "There's no improvement for 1 epochs.\n"
     ]
    },
    {
     "name": "stderr",
     "output_type": "stream",
     "text": [
      "  0%|          | 0/4 [00:00<?, ?it/s]"
     ]
    },
    {
     "name": "stdout",
     "output_type": "stream",
     "text": [
      "Epoch: [18][0/4]\tTime  4.699 ( 4.699)\tData  3.879 ( 3.879)\tLoss 9.0816e-01 (9.0816e-01)\tAcc@1  73.05 ( 73.05)\n"
     ]
    },
    {
     "name": "stderr",
     "output_type": "stream",
     "text": [
      "100%|██████████| 4/4 [00:11<00:00,  2.89s/it]\n",
      " 25%|██▌       | 1/4 [00:04<00:12,  4.33s/it]"
     ]
    },
    {
     "name": "stdout",
     "output_type": "stream",
     "text": [
      "Validate: [0/4]\tTime  4.330 ( 4.330)\tLoss 9.4779e-01 (9.4779e-01)\tPrompt Acc@1  76.17 ( 76.17)\n"
     ]
    },
    {
     "name": "stderr",
     "output_type": "stream",
     "text": [
      "100%|██████████| 4/4 [00:06<00:00,  1.53s/it]\n"
     ]
    },
    {
     "name": "stdout",
     "output_type": "stream",
     "text": [
      " * Prompt Acc@1 74.510\n",
      "There's no improvement for 2 epochs.\n"
     ]
    },
    {
     "name": "stderr",
     "output_type": "stream",
     "text": [
      "  0%|          | 0/4 [00:00<?, ?it/s]"
     ]
    },
    {
     "name": "stdout",
     "output_type": "stream",
     "text": [
      "Epoch: [19][0/4]\tTime  4.272 ( 4.272)\tData  3.447 ( 3.447)\tLoss 9.2293e-01 (9.2293e-01)\tAcc@1  74.22 ( 74.22)\n"
     ]
    },
    {
     "name": "stderr",
     "output_type": "stream",
     "text": [
      "100%|██████████| 4/4 [00:11<00:00,  2.77s/it]\n",
      " 25%|██▌       | 1/4 [00:04<00:12,  4.20s/it]"
     ]
    },
    {
     "name": "stdout",
     "output_type": "stream",
     "text": [
      "Validate: [0/4]\tTime  4.198 ( 4.198)\tLoss 9.4539e-01 (9.4539e-01)\tPrompt Acc@1  76.17 ( 76.17)\n"
     ]
    },
    {
     "name": "stderr",
     "output_type": "stream",
     "text": [
      "100%|██████████| 4/4 [00:05<00:00,  1.50s/it]\n"
     ]
    },
    {
     "name": "stdout",
     "output_type": "stream",
     "text": [
      " * Prompt Acc@1 74.265\n",
      "There's no improvement for 3 epochs.\n"
     ]
    },
    {
     "name": "stderr",
     "output_type": "stream",
     "text": [
      "  0%|          | 0/4 [00:00<?, ?it/s]"
     ]
    },
    {
     "name": "stdout",
     "output_type": "stream",
     "text": [
      "Epoch: [20][0/4]\tTime  4.309 ( 4.309)\tData  3.466 ( 3.466)\tLoss 9.2689e-01 (9.2689e-01)\tAcc@1  73.05 ( 73.05)\n"
     ]
    },
    {
     "name": "stderr",
     "output_type": "stream",
     "text": [
      "100%|██████████| 4/4 [00:11<00:00,  2.80s/it]\n",
      " 25%|██▌       | 1/4 [00:04<00:12,  4.20s/it]"
     ]
    },
    {
     "name": "stdout",
     "output_type": "stream",
     "text": [
      "Validate: [0/4]\tTime  4.201 ( 4.201)\tLoss 9.4380e-01 (9.4380e-01)\tPrompt Acc@1  75.39 ( 75.39)\n"
     ]
    },
    {
     "name": "stderr",
     "output_type": "stream",
     "text": [
      "100%|██████████| 4/4 [00:06<00:00,  1.50s/it]\n"
     ]
    },
    {
     "name": "stdout",
     "output_type": "stream",
     "text": [
      " * Prompt Acc@1 74.265\n",
      "There's no improvement for 4 epochs.\n"
     ]
    },
    {
     "name": "stderr",
     "output_type": "stream",
     "text": [
      "  0%|          | 0/4 [00:00<?, ?it/s]"
     ]
    },
    {
     "name": "stdout",
     "output_type": "stream",
     "text": [
      "Epoch: [21][0/4]\tTime  4.270 ( 4.270)\tData  3.459 ( 3.459)\tLoss 9.9825e-01 (9.9825e-01)\tAcc@1  69.92 ( 69.92)\n"
     ]
    },
    {
     "name": "stderr",
     "output_type": "stream",
     "text": [
      "100%|██████████| 4/4 [00:10<00:00,  2.67s/it]\n",
      " 25%|██▌       | 1/4 [00:04<00:12,  4.24s/it]"
     ]
    },
    {
     "name": "stdout",
     "output_type": "stream",
     "text": [
      "Validate: [0/4]\tTime  4.245 ( 4.245)\tLoss 9.4481e-01 (9.4481e-01)\tPrompt Acc@1  75.39 ( 75.39)\n"
     ]
    },
    {
     "name": "stderr",
     "output_type": "stream",
     "text": [
      "100%|██████████| 4/4 [00:06<00:00,  1.50s/it]\n"
     ]
    },
    {
     "name": "stdout",
     "output_type": "stream",
     "text": [
      " * Prompt Acc@1 74.142\n",
      "There's no improvement for 5 epochs.\n",
      "The training halted by early stopping criterion.\n"
     ]
    },
    {
     "name": "stderr",
     "output_type": "stream",
     "text": [
      " 10%|█         | 1/10 [00:04<00:42,  4.70s/it]"
     ]
    },
    {
     "name": "stdout",
     "output_type": "stream",
     "text": [
      "Validate: [ 0/10]\tTime  4.704 ( 4.704)\tLoss 1.7605e+00 (1.7605e+00)\tPrompt Acc@1  74.61 ( 74.61)\n"
     ]
    },
    {
     "name": "stderr",
     "output_type": "stream",
     "text": [
      "100%|██████████| 10/10 [00:12<00:00,  1.22s/it]\n"
     ]
    },
    {
     "name": "stdout",
     "output_type": "stream",
     "text": [
      " * Prompt Acc@1 71.255\n"
     ]
    },
    {
     "name": "stderr",
     "output_type": "stream",
     "text": [
      " 20%|██        | 1/5 [00:04<00:18,  4.75s/it]"
     ]
    },
    {
     "name": "stdout",
     "output_type": "stream",
     "text": [
      "Validate: [0/5]\tTime  4.747 ( 4.747)\tLoss 6.3619e-01 (6.3619e-01)\tPrompt Acc@1  85.16 ( 85.16)\n"
     ]
    },
    {
     "name": "stderr",
     "output_type": "stream",
     "text": [
      "100%|██████████| 5/5 [00:07<00:00,  1.44s/it]\n"
     ]
    },
    {
     "name": "stdout",
     "output_type": "stream",
     "text": [
      " * Prompt Acc@1 75.119\n"
     ]
    },
    {
     "name": "stderr",
     "output_type": "stream",
     "text": [
      " 17%|█▋        | 1/6 [00:04<00:24,  4.80s/it]"
     ]
    },
    {
     "name": "stdout",
     "output_type": "stream",
     "text": [
      "Validate: [0/6]\tTime  4.804 ( 4.804)\tLoss 1.5520e+00 (1.5520e+00)\tPrompt Acc@1  75.00 ( 75.00)\n"
     ]
    },
    {
     "name": "stderr",
     "output_type": "stream",
     "text": [
      "100%|██████████| 6/6 [00:08<00:00,  1.40s/it]\n"
     ]
    },
    {
     "name": "stdout",
     "output_type": "stream",
     "text": [
      " * Prompt Acc@1 75.603\n",
      "Training clip_transformer_adapter_text on fgvc_aircraft on base subsample.\n",
      "Turning off gradients in both the image and the text encoder\n",
      "Parameters to be updated: {'adapter.mha.in_proj_bias', 'adapter.mha.in_proj_weight', 'adapter.upsampler.0.weight', 'adapter.downsampler.0.weight', 'adapter.upsampler.2.weight', 'adapter.downsampler.0.bias', 'adapter.downsampler.1.weight', 'adapter.mha.out_proj.weight', 'adapter.upsampler.0.bias', 'adapter.downsampler.1.bias', 'adapter.upsampler.2.bias', 'adapter.mha.out_proj.bias'}\n",
      "Number of learnable paramms: 313152\n"
     ]
    },
    {
     "name": "stderr",
     "output_type": "stream",
     "text": [
      "  0%|          | 0/4 [00:00<?, ?it/s]"
     ]
    },
    {
     "name": "stdout",
     "output_type": "stream",
     "text": [
      "Epoch: [0][0/4]\tTime  8.436 ( 8.436)\tData  7.626 ( 7.626)\tLoss 2.3022e+00 (2.3022e+00)\tAcc@1  28.91 ( 28.91)\n"
     ]
    },
    {
     "name": "stderr",
     "output_type": "stream",
     "text": [
      "100%|██████████| 4/4 [00:10<00:00,  2.70s/it]\n",
      " 25%|██▌       | 1/4 [00:08<00:25,  8.50s/it]"
     ]
    },
    {
     "name": "stdout",
     "output_type": "stream",
     "text": [
      "Validate: [0/4]\tTime  8.499 ( 8.499)\tLoss 2.1741e+00 (2.1741e+00)\tPrompt Acc@1  33.98 ( 33.98)\n"
     ]
    },
    {
     "name": "stderr",
     "output_type": "stream",
     "text": [
      "100%|██████████| 4/4 [00:10<00:00,  2.54s/it]\n"
     ]
    },
    {
     "name": "stdout",
     "output_type": "stream",
     "text": [
      " * Prompt Acc@1 30.250\n",
      "saved best file\n"
     ]
    },
    {
     "name": "stderr",
     "output_type": "stream",
     "text": [
      "  0%|          | 0/4 [00:00<?, ?it/s]"
     ]
    },
    {
     "name": "stdout",
     "output_type": "stream",
     "text": [
      "Epoch: [1][0/4]\tTime  6.509 ( 6.509)\tData  5.707 ( 5.707)\tLoss 2.2429e+00 (2.2429e+00)\tAcc@1  29.30 ( 29.30)\n"
     ]
    },
    {
     "name": "stderr",
     "output_type": "stream",
     "text": [
      "100%|██████████| 4/4 [00:13<00:00,  3.37s/it]\n",
      " 25%|██▌       | 1/4 [00:08<00:24,  8.22s/it]"
     ]
    },
    {
     "name": "stdout",
     "output_type": "stream",
     "text": [
      "Validate: [0/4]\tTime  8.222 ( 8.222)\tLoss 2.1520e+00 (2.1520e+00)\tPrompt Acc@1  33.20 ( 33.20)\n"
     ]
    },
    {
     "name": "stderr",
     "output_type": "stream",
     "text": [
      "100%|██████████| 4/4 [00:09<00:00,  2.47s/it]\n"
     ]
    },
    {
     "name": "stdout",
     "output_type": "stream",
     "text": [
      " * Prompt Acc@1 29.250\n",
      "There's no improvement for 1 epochs.\n"
     ]
    },
    {
     "name": "stderr",
     "output_type": "stream",
     "text": [
      "  0%|          | 0/4 [00:00<?, ?it/s]"
     ]
    },
    {
     "name": "stdout",
     "output_type": "stream",
     "text": [
      "Epoch: [2][0/4]\tTime  6.801 ( 6.801)\tData  5.997 ( 5.997)\tLoss 2.1431e+00 (2.1431e+00)\tAcc@1  33.20 ( 33.20)\n"
     ]
    },
    {
     "name": "stderr",
     "output_type": "stream",
     "text": [
      "100%|██████████| 4/4 [00:13<00:00,  3.40s/it]\n",
      " 25%|██▌       | 1/4 [00:06<00:20,  6.82s/it]"
     ]
    },
    {
     "name": "stdout",
     "output_type": "stream",
     "text": [
      "Validate: [0/4]\tTime  6.818 ( 6.818)\tLoss 2.1473e+00 (2.1473e+00)\tPrompt Acc@1  32.81 ( 32.81)\n"
     ]
    },
    {
     "name": "stderr",
     "output_type": "stream",
     "text": [
      "100%|██████████| 4/4 [00:09<00:00,  2.33s/it]\n"
     ]
    },
    {
     "name": "stdout",
     "output_type": "stream",
     "text": [
      " * Prompt Acc@1 29.375\n",
      "There's no improvement for 2 epochs.\n"
     ]
    },
    {
     "name": "stderr",
     "output_type": "stream",
     "text": [
      "  0%|          | 0/4 [00:00<?, ?it/s]"
     ]
    },
    {
     "name": "stdout",
     "output_type": "stream",
     "text": [
      "Epoch: [3][0/4]\tTime  8.255 ( 8.255)\tData  7.433 ( 7.433)\tLoss 2.2009e+00 (2.2009e+00)\tAcc@1  29.30 ( 29.30)\n"
     ]
    },
    {
     "name": "stderr",
     "output_type": "stream",
     "text": [
      "100%|██████████| 4/4 [00:14<00:00,  3.74s/it]\n",
      " 25%|██▌       | 1/4 [00:08<00:24,  8.18s/it]"
     ]
    },
    {
     "name": "stdout",
     "output_type": "stream",
     "text": [
      "Validate: [0/4]\tTime  8.183 ( 8.183)\tLoss 2.1410e+00 (2.1410e+00)\tPrompt Acc@1  30.86 ( 30.86)\n"
     ]
    },
    {
     "name": "stderr",
     "output_type": "stream",
     "text": [
      "100%|██████████| 4/4 [00:09<00:00,  2.47s/it]\n"
     ]
    },
    {
     "name": "stdout",
     "output_type": "stream",
     "text": [
      " * Prompt Acc@1 29.000\n",
      "There's no improvement for 3 epochs.\n"
     ]
    },
    {
     "name": "stderr",
     "output_type": "stream",
     "text": [
      "  0%|          | 0/4 [00:00<?, ?it/s]"
     ]
    },
    {
     "name": "stdout",
     "output_type": "stream",
     "text": [
      "Epoch: [4][0/4]\tTime  6.511 ( 6.511)\tData  5.708 ( 5.708)\tLoss 2.1670e+00 (2.1670e+00)\tAcc@1  30.08 ( 30.08)\n"
     ]
    },
    {
     "name": "stderr",
     "output_type": "stream",
     "text": [
      "100%|██████████| 4/4 [00:13<00:00,  3.37s/it]\n",
      " 25%|██▌       | 1/4 [00:08<00:24,  8.18s/it]"
     ]
    },
    {
     "name": "stdout",
     "output_type": "stream",
     "text": [
      "Validate: [0/4]\tTime  8.182 ( 8.182)\tLoss 2.1384e+00 (2.1384e+00)\tPrompt Acc@1  30.86 ( 30.86)\n"
     ]
    },
    {
     "name": "stderr",
     "output_type": "stream",
     "text": [
      "100%|██████████| 4/4 [00:09<00:00,  2.47s/it]\n"
     ]
    },
    {
     "name": "stdout",
     "output_type": "stream",
     "text": [
      " * Prompt Acc@1 28.500\n",
      "There's no improvement for 4 epochs.\n"
     ]
    },
    {
     "name": "stderr",
     "output_type": "stream",
     "text": [
      "  0%|          | 0/4 [00:00<?, ?it/s]"
     ]
    },
    {
     "name": "stdout",
     "output_type": "stream",
     "text": [
      "Epoch: [5][0/4]\tTime  6.572 ( 6.572)\tData  5.763 ( 5.763)\tLoss 2.2385e+00 (2.2385e+00)\tAcc@1  28.52 ( 28.52)\n"
     ]
    },
    {
     "name": "stderr",
     "output_type": "stream",
     "text": [
      "100%|██████████| 4/4 [00:13<00:00,  3.40s/it]\n",
      " 25%|██▌       | 1/4 [00:08<00:24,  8.16s/it]"
     ]
    },
    {
     "name": "stdout",
     "output_type": "stream",
     "text": [
      "Validate: [0/4]\tTime  8.157 ( 8.157)\tLoss 2.1229e+00 (2.1229e+00)\tPrompt Acc@1  33.59 ( 33.59)\n"
     ]
    },
    {
     "name": "stderr",
     "output_type": "stream",
     "text": [
      "100%|██████████| 4/4 [00:09<00:00,  2.47s/it]\n"
     ]
    },
    {
     "name": "stdout",
     "output_type": "stream",
     "text": [
      " * Prompt Acc@1 29.750\n",
      "There's no improvement for 5 epochs.\n",
      "The training halted by early stopping criterion.\n"
     ]
    },
    {
     "name": "stderr",
     "output_type": "stream",
     "text": [
      "  7%|▋         | 1/14 [00:09<01:57,  9.03s/it]"
     ]
    },
    {
     "name": "stdout",
     "output_type": "stream",
     "text": [
      "Validate: [ 0/14]\tTime  9.026 ( 9.026)\tLoss 3.3620e+00 (3.3620e+00)\tPrompt Acc@1   5.08 (  5.08)\n"
     ]
    },
    {
     "name": "stderr",
     "output_type": "stream",
     "text": [
      "100%|██████████| 14/14 [00:31<00:00,  2.23s/it]\n"
     ]
    },
    {
     "name": "stdout",
     "output_type": "stream",
     "text": [
      " * Prompt Acc@1 24.932\n"
     ]
    },
    {
     "name": "stderr",
     "output_type": "stream",
     "text": [
      " 14%|█▍        | 1/7 [00:08<00:52,  8.80s/it]"
     ]
    },
    {
     "name": "stdout",
     "output_type": "stream",
     "text": [
      "Validate: [0/7]\tTime  8.797 ( 8.797)\tLoss 2.9063e+00 (2.9063e+00)\tPrompt Acc@1   8.59 (  8.59)\n"
     ]
    },
    {
     "name": "stderr",
     "output_type": "stream",
     "text": [
      "100%|██████████| 7/7 [00:15<00:00,  2.26s/it]\n"
     ]
    },
    {
     "name": "stdout",
     "output_type": "stream",
     "text": [
      " * Prompt Acc@1 29.592\n"
     ]
    },
    {
     "name": "stderr",
     "output_type": "stream",
     "text": [
      " 14%|█▍        | 1/7 [00:08<00:52,  8.76s/it]"
     ]
    },
    {
     "name": "stdout",
     "output_type": "stream",
     "text": [
      "Validate: [0/7]\tTime  8.764 ( 8.764)\tLoss 2.0410e+00 (2.0410e+00)\tPrompt Acc@1  39.45 ( 39.45)\n"
     ]
    },
    {
     "name": "stderr",
     "output_type": "stream",
     "text": [
      "100%|██████████| 7/7 [00:16<00:00,  2.33s/it]"
     ]
    },
    {
     "name": "stdout",
     "output_type": "stream",
     "text": [
      " * Prompt Acc@1 35.333\n"
     ]
    },
    {
     "name": "stderr",
     "output_type": "stream",
     "text": [
      "\n"
     ]
    }
   ],
   "source": [
    "for train_subsample in TRAIN_SUBSAMPLES:\n",
    "    for dataset_name in DATASETS:\n",
    "        print(f\"Training {MODEL_TYPE} on {dataset_name} on {train_subsample} subsample.\")\n",
    "        \n",
    "        _dataset = DatasetInitializer.from_str(dataset_name).value(train=True)\n",
    "        labels = _dataset.labels\n",
    "        prompt_template = PROMPTS[dataset_name]\n",
    "        num_of_classes = len(labels) // 2 if train_subsample == \"base\" else len(labels)\n",
    "        #num_of_classes = len(labels) - (len(labels) // 5) if train_subsample == \"base\" else len(labels)\n",
    "        train_eval_size = [NUM_OF_SAMPLES * num_of_classes, NUM_OF_SAMPLES * num_of_classes]\n",
    "\n",
    "        learner_args = LearnerArgs(model_type=MODEL_TYPE, dataset=dataset_name)\n",
    "        learner_args.device = \"cuda\"\n",
    "        learner_args.epochs = 200\n",
    "        learner_args.model_type = MODEL_TYPE\n",
    "        learner_args.train_eval_size = train_eval_size\n",
    "        learner_args.text_prompt_template = prompt_template\n",
    "        learner_args.print_freq = 200\n",
    "        learner_args.save_freq = 200\n",
    "        learner_args.learning_rate = 5e-3\n",
    "        learner_args.use_wandb = False\n",
    "        learner_args.patience = 5\n",
    "        learner_args.info = \"downsampling 256\"\n",
    "        learner_args.batch_size = 256\n",
    "        learner_args.momentum = 0.5\n",
    "        learner_args.train_subsample = train_subsample\n",
    "        learner_args.dataset = dataset_name\n",
    "\n",
    "        learner = Learner(learner_args)\n",
    "        learner.run()"
   ]
  },
  {
   "cell_type": "code",
   "execution_count": null,
   "metadata": {},
   "outputs": [],
   "source": []
  }
 ],
 "metadata": {
  "environment": {
   "kernel": "fomo",
   "name": "common-cu121.m121",
   "type": "gcloud",
   "uri": "us-docker.pkg.dev/deeplearning-platform-release/gcr.io/base-cu121:m121"
  },
  "kernelspec": {
   "display_name": "fomo (Local)",
   "language": "python",
   "name": "fomo"
  },
  "language_info": {
   "codemirror_mode": {
    "name": "ipython",
    "version": 3
   },
   "file_extension": ".py",
   "mimetype": "text/x-python",
   "name": "python",
   "nbconvert_exporter": "python",
   "pygments_lexer": "ipython3",
   "version": "3.11.6"
  }
 },
 "nbformat": 4,
 "nbformat_minor": 4
}
