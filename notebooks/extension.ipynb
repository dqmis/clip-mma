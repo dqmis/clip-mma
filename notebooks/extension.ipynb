{
 "cells": [
  {
   "cell_type": "code",
   "execution_count": 1,
   "metadata": {
    "tags": []
   },
   "outputs": [
    {
     "name": "stderr",
     "output_type": "stream",
     "text": [
      "/home/jupyter/github/fomo/.venv/lib/python3.11/site-packages/tqdm/auto.py:21: TqdmWarning: IProgress not found. Please update jupyter and ipywidgets. See https://ipywidgets.readthedocs.io/en/stable/user_install.html\n",
      "  from .autonotebook import tqdm as notebook_tqdm\n"
     ]
    }
   ],
   "source": [
    "from fomo.pipelines.train import Learner\n",
    "from fomo.pipelines.types.learner_args import LearnerArgs\n",
    "from fomo.utils.data.datasets import DatasetInitializer, PROMPTS\n",
    "import torch"
   ]
  },
  {
   "cell_type": "code",
   "execution_count": 2,
   "metadata": {
    "tags": []
   },
   "outputs": [],
   "source": [
    "NUM_OF_SAMPLES = 16"
   ]
  },
  {
   "cell_type": "code",
   "execution_count": 3,
   "metadata": {
    "tags": []
   },
   "outputs": [],
   "source": [
    "#TRAIN_SUBSAMPLES = [\"base\", \"all\"]\n",
    "#TRAIN_SUBSAMPLES = [\"base\"]\n",
    "TRAIN_SUBSAMPLES = [\"base\"]\n",
    "MODEL_TYPE = \"clip_transformer_adapter_text\"\n"
   ]
  },
  {
   "cell_type": "code",
   "execution_count": 4,
   "metadata": {
    "tags": []
   },
   "outputs": [],
   "source": [
    "#DATASETS = [\"cifar10\", \"caltech101\", \"oxford_pets\", \"oxford_flowers\", \"food101\", \"stanford_cars\", \"fgvc_aircraft\", \"dtd\", \"sun397\"]\n",
    "#DATASETS = [\"caltech101\", \"oxford_pets\", \"oxford_flowers\", \"food101\", \"stanford_cars\", \"fgvc_aircraft\", \"dtd\", \"sun397\"]\n",
    "#DATASETS = [\"caltech101\", \"oxford_pets\", \"oxford_flowers\", \"fgvc_aircraft\"]\n",
    "DATASETS = [\"oxford_flowers\"]\n",
    "#DATASETS = [\"food101\", \"stanford_cars\", \"dtd\", \"sun397\", \"eurosat\", \"ucf101\"]"
   ]
  },
  {
   "cell_type": "code",
   "execution_count": 5,
   "metadata": {
    "tags": []
   },
   "outputs": [
    {
     "name": "stdout",
     "output_type": "stream",
     "text": [
      "Training clip_transformer_adapter_text on oxford_flowers on base subsample.\n"
     ]
    },
    {
     "name": "stderr",
     "output_type": "stream",
     "text": [
      "ERROR:wandb.jupyter:Failed to detect the name of this notebook, you can set it manually with the WANDB_NOTEBOOK_NAME environment variable to enable code saving.\n"
     ]
    },
    {
     "name": "stdout",
     "output_type": "stream",
     "text": [
      "Turning off gradients in both the image and the text encoder\n",
      "Parameters to be updated: {'adapter.mha.out_proj.bias', 'adapter.downsampler.1.bias', 'adapter.mha.out_proj.weight', 'adapter.downsampler.0.weight', 'adapter.downsampler.0.bias', 'adapter.downsampler.1.weight', 'adapter.upsampler.0.bias', 'adapter.mha.in_proj_weight', 'adapter.upsampler.2.weight', 'adapter.upsampler.2.bias', 'adapter.mha.in_proj_bias', 'adapter.upsampler.0.weight'}\n",
      "Number of learnable paramms: 107712\n"
     ]
    },
    {
     "name": "stderr",
     "output_type": "stream",
     "text": [
      "\u001b[34m\u001b[1mwandb\u001b[0m: Currently logged in as: \u001b[33mdqmiss\u001b[0m. Use \u001b[1m`wandb login --relogin`\u001b[0m to force relogin\n"
     ]
    },
    {
     "data": {
      "text/html": [
       "wandb version 0.17.0 is available!  To upgrade, please run:\n",
       " $ pip install wandb --upgrade"
      ],
      "text/plain": [
       "<IPython.core.display.HTML object>"
      ]
     },
     "metadata": {},
     "output_type": "display_data"
    },
    {
     "data": {
      "text/html": [
       "Tracking run with wandb version 0.16.6"
      ],
      "text/plain": [
       "<IPython.core.display.HTML object>"
      ]
     },
     "metadata": {},
     "output_type": "display_data"
    },
    {
     "data": {
      "text/html": [
       "Run data is saved locally in <code>/home/jupyter/github/fomo/notebooks/wandb/run-20240531_184056-k609u6f4</code>"
      ],
      "text/plain": [
       "<IPython.core.display.HTML object>"
      ]
     },
     "metadata": {},
     "output_type": "display_data"
    },
    {
     "data": {
      "text/html": [
       "Syncing run <strong><a href='https://wandb.ai/dqmiss/fomo/runs/k609u6f4' target=\"_blank\">clip_transformer_adapter_text_oxford_flowers_1717180794</a></strong> to <a href='https://wandb.ai/dqmiss/fomo' target=\"_blank\">Weights & Biases</a> (<a href='https://wandb.me/run' target=\"_blank\">docs</a>)<br/>"
      ],
      "text/plain": [
       "<IPython.core.display.HTML object>"
      ]
     },
     "metadata": {},
     "output_type": "display_data"
    },
    {
     "data": {
      "text/html": [
       " View project at <a href='https://wandb.ai/dqmiss/fomo' target=\"_blank\">https://wandb.ai/dqmiss/fomo</a>"
      ],
      "text/plain": [
       "<IPython.core.display.HTML object>"
      ]
     },
     "metadata": {},
     "output_type": "display_data"
    },
    {
     "data": {
      "text/html": [
       " View run at <a href='https://wandb.ai/dqmiss/fomo/runs/k609u6f4' target=\"_blank\">https://wandb.ai/dqmiss/fomo/runs/k609u6f4</a>"
      ],
      "text/plain": [
       "<IPython.core.display.HTML object>"
      ]
     },
     "metadata": {},
     "output_type": "display_data"
    },
    {
     "name": "stderr",
     "output_type": "stream",
     "text": [
      "  0%|          | 0/4 [00:00<?, ?it/s]"
     ]
    },
    {
     "name": "stdout",
     "output_type": "stream",
     "text": [
      "Epoch: [0][0/4]\tTime  4.839 ( 4.839)\tData  3.462 ( 3.462)\tLoss 1.1822e+00 (1.1822e+00)\tAcc@1  67.58 ( 67.58)\n"
     ]
    },
    {
     "name": "stderr",
     "output_type": "stream",
     "text": [
      "100%|██████████| 4/4 [00:07<00:00,  1.83s/it]\n",
      " 25%|██▌       | 1/4 [00:03<00:09,  3.24s/it]"
     ]
    },
    {
     "name": "stdout",
     "output_type": "stream",
     "text": [
      "Validate: [0/4]\tTime  3.237 ( 3.237)\tLoss 1.0205e+00 (1.0205e+00)\tPrompt Acc@1  73.83 ( 73.83)\n"
     ]
    },
    {
     "name": "stderr",
     "output_type": "stream",
     "text": [
      "100%|██████████| 4/4 [00:05<00:00,  1.29s/it]\n"
     ]
    },
    {
     "name": "stdout",
     "output_type": "stream",
     "text": [
      " * Prompt Acc@1 73.162\n",
      "saved best file\n"
     ]
    },
    {
     "name": "stderr",
     "output_type": "stream",
     "text": [
      "  0%|          | 0/4 [00:00<?, ?it/s]"
     ]
    },
    {
     "name": "stdout",
     "output_type": "stream",
     "text": [
      "Epoch: [1][0/4]\tTime  3.985 ( 3.985)\tData  3.170 ( 3.170)\tLoss 9.0601e-01 (9.0601e-01)\tAcc@1  75.39 ( 75.39)\n"
     ]
    },
    {
     "name": "stderr",
     "output_type": "stream",
     "text": [
      "100%|██████████| 4/4 [00:11<00:00,  2.80s/it]\n",
      " 25%|██▌       | 1/4 [00:03<00:11,  3.95s/it]"
     ]
    },
    {
     "name": "stdout",
     "output_type": "stream",
     "text": [
      "Validate: [0/4]\tTime  3.950 ( 3.950)\tLoss 1.0030e+00 (1.0030e+00)\tPrompt Acc@1  72.27 ( 72.27)\n"
     ]
    },
    {
     "name": "stderr",
     "output_type": "stream",
     "text": [
      "100%|██████████| 4/4 [00:05<00:00,  1.46s/it]\n"
     ]
    },
    {
     "name": "stdout",
     "output_type": "stream",
     "text": [
      " * Prompt Acc@1 72.794\n",
      "There's no improvement for 1 epochs.\n"
     ]
    },
    {
     "name": "stderr",
     "output_type": "stream",
     "text": [
      "  0%|          | 0/4 [00:00<?, ?it/s]"
     ]
    },
    {
     "name": "stdout",
     "output_type": "stream",
     "text": [
      "Epoch: [2][0/4]\tTime  4.017 ( 4.017)\tData  3.177 ( 3.177)\tLoss 8.3374e-01 (8.3374e-01)\tAcc@1  73.05 ( 73.05)\n"
     ]
    },
    {
     "name": "stderr",
     "output_type": "stream",
     "text": [
      "100%|██████████| 4/4 [00:10<00:00,  2.74s/it]\n",
      " 25%|██▌       | 1/4 [00:03<00:09,  3.23s/it]"
     ]
    },
    {
     "name": "stdout",
     "output_type": "stream",
     "text": [
      "Validate: [0/4]\tTime  3.231 ( 3.231)\tLoss 9.7422e-01 (9.7422e-01)\tPrompt Acc@1  73.83 ( 73.83)\n"
     ]
    },
    {
     "name": "stderr",
     "output_type": "stream",
     "text": [
      "100%|██████████| 4/4 [00:05<00:00,  1.28s/it]\n"
     ]
    },
    {
     "name": "stdout",
     "output_type": "stream",
     "text": [
      " * Prompt Acc@1 73.652\n",
      "saved best file\n"
     ]
    },
    {
     "name": "stderr",
     "output_type": "stream",
     "text": [
      "  0%|          | 0/4 [00:00<?, ?it/s]"
     ]
    },
    {
     "name": "stdout",
     "output_type": "stream",
     "text": [
      "Epoch: [3][0/4]\tTime  3.496 ( 3.496)\tData  2.675 ( 2.675)\tLoss 8.0702e-01 (8.0702e-01)\tAcc@1  76.56 ( 76.56)\n"
     ]
    },
    {
     "name": "stderr",
     "output_type": "stream",
     "text": [
      "100%|██████████| 4/4 [00:10<00:00,  2.60s/it]\n",
      " 25%|██▌       | 1/4 [00:03<00:10,  3.53s/it]"
     ]
    },
    {
     "name": "stdout",
     "output_type": "stream",
     "text": [
      "Validate: [0/4]\tTime  3.530 ( 3.530)\tLoss 9.6678e-01 (9.6678e-01)\tPrompt Acc@1  75.00 ( 75.00)\n"
     ]
    },
    {
     "name": "stderr",
     "output_type": "stream",
     "text": [
      "100%|██████████| 4/4 [00:05<00:00,  1.35s/it]\n"
     ]
    },
    {
     "name": "stdout",
     "output_type": "stream",
     "text": [
      " * Prompt Acc@1 74.265\n",
      "saved best file\n"
     ]
    },
    {
     "name": "stderr",
     "output_type": "stream",
     "text": [
      "  0%|          | 0/4 [00:00<?, ?it/s]"
     ]
    },
    {
     "name": "stdout",
     "output_type": "stream",
     "text": [
      "Epoch: [4][0/4]\tTime  3.852 ( 3.852)\tData  3.019 ( 3.019)\tLoss 9.5966e-01 (9.5966e-01)\tAcc@1  71.88 ( 71.88)\n"
     ]
    },
    {
     "name": "stderr",
     "output_type": "stream",
     "text": [
      "100%|██████████| 4/4 [00:10<00:00,  2.65s/it]\n",
      " 25%|██▌       | 1/4 [00:04<00:12,  4.05s/it]"
     ]
    },
    {
     "name": "stdout",
     "output_type": "stream",
     "text": [
      "Validate: [0/4]\tTime  4.049 ( 4.049)\tLoss 9.6532e-01 (9.6532e-01)\tPrompt Acc@1  74.61 ( 74.61)\n"
     ]
    },
    {
     "name": "stderr",
     "output_type": "stream",
     "text": [
      "100%|██████████| 4/4 [00:05<00:00,  1.48s/it]\n"
     ]
    },
    {
     "name": "stdout",
     "output_type": "stream",
     "text": [
      " * Prompt Acc@1 73.407\n",
      "There's no improvement for 1 epochs.\n"
     ]
    },
    {
     "name": "stderr",
     "output_type": "stream",
     "text": [
      "  0%|          | 0/4 [00:00<?, ?it/s]"
     ]
    },
    {
     "name": "stdout",
     "output_type": "stream",
     "text": [
      "Epoch: [5][0/4]\tTime  3.755 ( 3.755)\tData  2.924 ( 2.924)\tLoss 8.5024e-01 (8.5024e-01)\tAcc@1  78.52 ( 78.52)\n"
     ]
    },
    {
     "name": "stderr",
     "output_type": "stream",
     "text": [
      "100%|██████████| 4/4 [00:10<00:00,  2.61s/it]\n",
      " 25%|██▌       | 1/4 [00:04<00:12,  4.15s/it]"
     ]
    },
    {
     "name": "stdout",
     "output_type": "stream",
     "text": [
      "Validate: [0/4]\tTime  4.154 ( 4.154)\tLoss 9.7003e-01 (9.7003e-01)\tPrompt Acc@1  75.00 ( 75.00)\n"
     ]
    },
    {
     "name": "stderr",
     "output_type": "stream",
     "text": [
      "100%|██████████| 4/4 [00:06<00:00,  1.51s/it]\n"
     ]
    },
    {
     "name": "stdout",
     "output_type": "stream",
     "text": [
      " * Prompt Acc@1 73.775\n",
      "There's no improvement for 2 epochs.\n"
     ]
    },
    {
     "name": "stderr",
     "output_type": "stream",
     "text": [
      "  0%|          | 0/4 [00:00<?, ?it/s]"
     ]
    },
    {
     "name": "stdout",
     "output_type": "stream",
     "text": [
      "Epoch: [6][0/4]\tTime  3.971 ( 3.971)\tData  3.129 ( 3.129)\tLoss 8.5550e-01 (8.5550e-01)\tAcc@1  76.95 ( 76.95)\n"
     ]
    },
    {
     "name": "stderr",
     "output_type": "stream",
     "text": [
      "100%|██████████| 4/4 [00:10<00:00,  2.67s/it]\n",
      " 25%|██▌       | 1/4 [00:03<00:09,  3.20s/it]"
     ]
    },
    {
     "name": "stdout",
     "output_type": "stream",
     "text": [
      "Validate: [0/4]\tTime  3.203 ( 3.203)\tLoss 9.6477e-01 (9.6477e-01)\tPrompt Acc@1  76.17 ( 76.17)\n"
     ]
    },
    {
     "name": "stderr",
     "output_type": "stream",
     "text": [
      "100%|██████████| 4/4 [00:05<00:00,  1.32s/it]\n"
     ]
    },
    {
     "name": "stdout",
     "output_type": "stream",
     "text": [
      " * Prompt Acc@1 74.020\n",
      "There's no improvement for 3 epochs.\n"
     ]
    },
    {
     "name": "stderr",
     "output_type": "stream",
     "text": [
      "  0%|          | 0/4 [00:00<?, ?it/s]"
     ]
    },
    {
     "name": "stdout",
     "output_type": "stream",
     "text": [
      "Epoch: [7][0/4]\tTime  3.284 ( 3.284)\tData  2.471 ( 2.471)\tLoss 9.7466e-01 (9.7466e-01)\tAcc@1  72.27 ( 72.27)\n"
     ]
    },
    {
     "name": "stderr",
     "output_type": "stream",
     "text": [
      "100%|██████████| 4/4 [00:10<00:00,  2.56s/it]\n",
      " 25%|██▌       | 1/4 [00:03<00:11,  3.89s/it]"
     ]
    },
    {
     "name": "stdout",
     "output_type": "stream",
     "text": [
      "Validate: [0/4]\tTime  3.895 ( 3.895)\tLoss 9.6472e-01 (9.6472e-01)\tPrompt Acc@1  76.17 ( 76.17)\n"
     ]
    },
    {
     "name": "stderr",
     "output_type": "stream",
     "text": [
      "100%|██████████| 4/4 [00:05<00:00,  1.44s/it]\n"
     ]
    },
    {
     "name": "stdout",
     "output_type": "stream",
     "text": [
      " * Prompt Acc@1 74.020\n",
      "There's no improvement for 4 epochs.\n"
     ]
    },
    {
     "name": "stderr",
     "output_type": "stream",
     "text": [
      "  0%|          | 0/4 [00:00<?, ?it/s]"
     ]
    },
    {
     "name": "stdout",
     "output_type": "stream",
     "text": [
      "Epoch: [8][0/4]\tTime  3.903 ( 3.903)\tData  3.071 ( 3.071)\tLoss 8.8913e-01 (8.8913e-01)\tAcc@1  74.61 ( 74.61)\n"
     ]
    },
    {
     "name": "stderr",
     "output_type": "stream",
     "text": [
      "100%|██████████| 4/4 [00:10<00:00,  2.70s/it]\n",
      " 25%|██▌       | 1/4 [00:03<00:10,  3.43s/it]"
     ]
    },
    {
     "name": "stdout",
     "output_type": "stream",
     "text": [
      "Validate: [0/4]\tTime  3.429 ( 3.429)\tLoss 9.6395e-01 (9.6395e-01)\tPrompt Acc@1  75.39 ( 75.39)\n"
     ]
    },
    {
     "name": "stderr",
     "output_type": "stream",
     "text": [
      "100%|██████████| 4/4 [00:05<00:00,  1.33s/it]\n"
     ]
    },
    {
     "name": "stdout",
     "output_type": "stream",
     "text": [
      " * Prompt Acc@1 74.142\n",
      "There's no improvement for 5 epochs.\n"
     ]
    },
    {
     "name": "stderr",
     "output_type": "stream",
     "text": [
      "  0%|          | 0/4 [00:00<?, ?it/s]"
     ]
    },
    {
     "name": "stdout",
     "output_type": "stream",
     "text": [
      "Epoch: [9][0/4]\tTime  3.708 ( 3.708)\tData  2.871 ( 2.871)\tLoss 9.7049e-01 (9.7049e-01)\tAcc@1  71.48 ( 71.48)\n"
     ]
    },
    {
     "name": "stderr",
     "output_type": "stream",
     "text": [
      "100%|██████████| 4/4 [00:10<00:00,  2.60s/it]\n",
      " 25%|██▌       | 1/4 [00:04<00:12,  4.03s/it]"
     ]
    },
    {
     "name": "stdout",
     "output_type": "stream",
     "text": [
      "Validate: [0/4]\tTime  4.029 ( 4.029)\tLoss 9.7166e-01 (9.7166e-01)\tPrompt Acc@1  74.22 ( 74.22)\n"
     ]
    },
    {
     "name": "stderr",
     "output_type": "stream",
     "text": [
      "100%|██████████| 4/4 [00:05<00:00,  1.48s/it]\n"
     ]
    },
    {
     "name": "stdout",
     "output_type": "stream",
     "text": [
      " * Prompt Acc@1 73.529\n",
      "There's no improvement for 6 epochs.\n"
     ]
    },
    {
     "name": "stderr",
     "output_type": "stream",
     "text": [
      "  0%|          | 0/4 [00:00<?, ?it/s]"
     ]
    },
    {
     "name": "stdout",
     "output_type": "stream",
     "text": [
      "Epoch: [10][0/4]\tTime  3.902 ( 3.902)\tData  3.073 ( 3.073)\tLoss 9.5655e-01 (9.5655e-01)\tAcc@1  74.22 ( 74.22)\n"
     ]
    },
    {
     "name": "stderr",
     "output_type": "stream",
     "text": [
      "100%|██████████| 4/4 [00:10<00:00,  2.65s/it]\n",
      " 25%|██▌       | 1/4 [00:03<00:09,  3.27s/it]"
     ]
    },
    {
     "name": "stdout",
     "output_type": "stream",
     "text": [
      "Validate: [0/4]\tTime  3.270 ( 3.270)\tLoss 9.6452e-01 (9.6452e-01)\tPrompt Acc@1  73.83 ( 73.83)\n"
     ]
    },
    {
     "name": "stderr",
     "output_type": "stream",
     "text": [
      "100%|██████████| 4/4 [00:05<00:00,  1.32s/it]\n"
     ]
    },
    {
     "name": "stdout",
     "output_type": "stream",
     "text": [
      " * Prompt Acc@1 74.020\n",
      "There's no improvement for 7 epochs.\n"
     ]
    },
    {
     "name": "stderr",
     "output_type": "stream",
     "text": [
      "  0%|          | 0/4 [00:00<?, ?it/s]"
     ]
    },
    {
     "name": "stdout",
     "output_type": "stream",
     "text": [
      "Epoch: [11][0/4]\tTime  4.281 ( 4.281)\tData  3.459 ( 3.459)\tLoss 8.9838e-01 (8.9838e-01)\tAcc@1  74.61 ( 74.61)\n"
     ]
    },
    {
     "name": "stderr",
     "output_type": "stream",
     "text": [
      "100%|██████████| 4/4 [00:11<00:00,  2.78s/it]\n",
      " 25%|██▌       | 1/4 [00:03<00:11,  3.93s/it]"
     ]
    },
    {
     "name": "stdout",
     "output_type": "stream",
     "text": [
      "Validate: [0/4]\tTime  3.933 ( 3.933)\tLoss 9.6006e-01 (9.6006e-01)\tPrompt Acc@1  75.39 ( 75.39)\n"
     ]
    },
    {
     "name": "stderr",
     "output_type": "stream",
     "text": [
      "100%|██████████| 4/4 [00:05<00:00,  1.45s/it]\n"
     ]
    },
    {
     "name": "stdout",
     "output_type": "stream",
     "text": [
      " * Prompt Acc@1 74.755\n",
      "saved best file\n"
     ]
    },
    {
     "name": "stderr",
     "output_type": "stream",
     "text": [
      "  0%|          | 0/4 [00:00<?, ?it/s]"
     ]
    },
    {
     "name": "stdout",
     "output_type": "stream",
     "text": [
      "Epoch: [12][0/4]\tTime  3.931 ( 3.931)\tData  3.110 ( 3.110)\tLoss 9.7570e-01 (9.7570e-01)\tAcc@1  71.88 ( 71.88)\n"
     ]
    },
    {
     "name": "stderr",
     "output_type": "stream",
     "text": [
      "100%|██████████| 4/4 [00:10<00:00,  2.66s/it]\n",
      " 25%|██▌       | 1/4 [00:03<00:11,  3.89s/it]"
     ]
    },
    {
     "name": "stdout",
     "output_type": "stream",
     "text": [
      "Validate: [0/4]\tTime  3.894 ( 3.894)\tLoss 9.5620e-01 (9.5620e-01)\tPrompt Acc@1  75.00 ( 75.00)\n"
     ]
    },
    {
     "name": "stderr",
     "output_type": "stream",
     "text": [
      "100%|██████████| 4/4 [00:05<00:00,  1.44s/it]\n"
     ]
    },
    {
     "name": "stdout",
     "output_type": "stream",
     "text": [
      " * Prompt Acc@1 74.387\n",
      "There's no improvement for 1 epochs.\n"
     ]
    },
    {
     "name": "stderr",
     "output_type": "stream",
     "text": [
      "  0%|          | 0/4 [00:00<?, ?it/s]"
     ]
    },
    {
     "name": "stdout",
     "output_type": "stream",
     "text": [
      "Epoch: [13][0/4]\tTime  3.951 ( 3.951)\tData  3.139 ( 3.139)\tLoss 9.8499e-01 (9.8499e-01)\tAcc@1  69.14 ( 69.14)\n"
     ]
    },
    {
     "name": "stderr",
     "output_type": "stream",
     "text": [
      "100%|██████████| 4/4 [00:10<00:00,  2.72s/it]\n",
      " 25%|██▌       | 1/4 [00:03<00:09,  3.22s/it]"
     ]
    },
    {
     "name": "stdout",
     "output_type": "stream",
     "text": [
      "Validate: [0/4]\tTime  3.219 ( 3.219)\tLoss 9.5104e-01 (9.5104e-01)\tPrompt Acc@1  75.00 ( 75.00)\n"
     ]
    },
    {
     "name": "stderr",
     "output_type": "stream",
     "text": [
      "100%|██████████| 4/4 [00:05<00:00,  1.31s/it]\n"
     ]
    },
    {
     "name": "stdout",
     "output_type": "stream",
     "text": [
      " * Prompt Acc@1 74.142\n",
      "There's no improvement for 2 epochs.\n"
     ]
    },
    {
     "name": "stderr",
     "output_type": "stream",
     "text": [
      "  0%|          | 0/4 [00:00<?, ?it/s]"
     ]
    },
    {
     "name": "stdout",
     "output_type": "stream",
     "text": [
      "Epoch: [14][0/4]\tTime  3.868 ( 3.868)\tData  3.032 ( 3.032)\tLoss 9.7983e-01 (9.7983e-01)\tAcc@1  72.66 ( 72.66)\n"
     ]
    },
    {
     "name": "stderr",
     "output_type": "stream",
     "text": [
      "100%|██████████| 4/4 [00:10<00:00,  2.67s/it]\n",
      " 25%|██▌       | 1/4 [00:03<00:09,  3.23s/it]"
     ]
    },
    {
     "name": "stdout",
     "output_type": "stream",
     "text": [
      "Validate: [0/4]\tTime  3.229 ( 3.229)\tLoss 9.4801e-01 (9.4801e-01)\tPrompt Acc@1  75.78 ( 75.78)\n"
     ]
    },
    {
     "name": "stderr",
     "output_type": "stream",
     "text": [
      "100%|██████████| 4/4 [00:05<00:00,  1.31s/it]\n"
     ]
    },
    {
     "name": "stdout",
     "output_type": "stream",
     "text": [
      " * Prompt Acc@1 73.897\n",
      "There's no improvement for 3 epochs.\n"
     ]
    },
    {
     "name": "stderr",
     "output_type": "stream",
     "text": [
      "  0%|          | 0/4 [00:00<?, ?it/s]"
     ]
    },
    {
     "name": "stdout",
     "output_type": "stream",
     "text": [
      "Epoch: [15][0/4]\tTime  3.993 ( 3.993)\tData  3.178 ( 3.178)\tLoss 9.3974e-01 (9.3974e-01)\tAcc@1  76.17 ( 76.17)\n"
     ]
    },
    {
     "name": "stderr",
     "output_type": "stream",
     "text": [
      "100%|██████████| 4/4 [00:10<00:00,  2.69s/it]\n",
      " 25%|██▌       | 1/4 [00:03<00:09,  3.25s/it]"
     ]
    },
    {
     "name": "stdout",
     "output_type": "stream",
     "text": [
      "Validate: [0/4]\tTime  3.250 ( 3.250)\tLoss 9.4646e-01 (9.4646e-01)\tPrompt Acc@1  75.39 ( 75.39)\n"
     ]
    },
    {
     "name": "stderr",
     "output_type": "stream",
     "text": [
      "100%|██████████| 4/4 [00:05<00:00,  1.32s/it]\n"
     ]
    },
    {
     "name": "stdout",
     "output_type": "stream",
     "text": [
      " * Prompt Acc@1 74.387\n",
      "There's no improvement for 4 epochs.\n"
     ]
    },
    {
     "name": "stderr",
     "output_type": "stream",
     "text": [
      "  0%|          | 0/4 [00:00<?, ?it/s]"
     ]
    },
    {
     "name": "stdout",
     "output_type": "stream",
     "text": [
      "Epoch: [16][0/4]\tTime  3.935 ( 3.935)\tData  3.100 ( 3.100)\tLoss 9.6459e-01 (9.6459e-01)\tAcc@1  74.22 ( 74.22)\n"
     ]
    },
    {
     "name": "stderr",
     "output_type": "stream",
     "text": [
      "100%|██████████| 4/4 [00:10<00:00,  2.69s/it]\n",
      " 25%|██▌       | 1/4 [00:03<00:11,  3.90s/it]"
     ]
    },
    {
     "name": "stdout",
     "output_type": "stream",
     "text": [
      "Validate: [0/4]\tTime  3.896 ( 3.896)\tLoss 9.5293e-01 (9.5293e-01)\tPrompt Acc@1  75.00 ( 75.00)\n"
     ]
    },
    {
     "name": "stderr",
     "output_type": "stream",
     "text": [
      "100%|██████████| 4/4 [00:05<00:00,  1.45s/it]\n"
     ]
    },
    {
     "name": "stdout",
     "output_type": "stream",
     "text": [
      " * Prompt Acc@1 74.632\n",
      "There's no improvement for 5 epochs.\n"
     ]
    },
    {
     "name": "stderr",
     "output_type": "stream",
     "text": [
      "  0%|          | 0/4 [00:00<?, ?it/s]"
     ]
    },
    {
     "name": "stdout",
     "output_type": "stream",
     "text": [
      "Epoch: [17][0/4]\tTime  3.885 ( 3.885)\tData  3.057 ( 3.057)\tLoss 9.2792e-01 (9.2792e-01)\tAcc@1  71.48 ( 71.48)\n"
     ]
    },
    {
     "name": "stderr",
     "output_type": "stream",
     "text": [
      "100%|██████████| 4/4 [00:10<00:00,  2.70s/it]\n",
      " 25%|██▌       | 1/4 [00:03<00:11,  3.86s/it]"
     ]
    },
    {
     "name": "stdout",
     "output_type": "stream",
     "text": [
      "Validate: [0/4]\tTime  3.856 ( 3.856)\tLoss 9.5217e-01 (9.5217e-01)\tPrompt Acc@1  75.00 ( 75.00)\n"
     ]
    },
    {
     "name": "stderr",
     "output_type": "stream",
     "text": [
      "100%|██████████| 4/4 [00:05<00:00,  1.43s/it]\n"
     ]
    },
    {
     "name": "stdout",
     "output_type": "stream",
     "text": [
      " * Prompt Acc@1 74.265\n",
      "There's no improvement for 6 epochs.\n"
     ]
    },
    {
     "name": "stderr",
     "output_type": "stream",
     "text": [
      "  0%|          | 0/4 [00:00<?, ?it/s]"
     ]
    },
    {
     "name": "stdout",
     "output_type": "stream",
     "text": [
      "Epoch: [18][0/4]\tTime  3.848 ( 3.848)\tData  3.016 ( 3.016)\tLoss 9.1877e-01 (9.1877e-01)\tAcc@1  74.22 ( 74.22)\n"
     ]
    },
    {
     "name": "stderr",
     "output_type": "stream",
     "text": [
      "100%|██████████| 4/4 [00:10<00:00,  2.64s/it]\n",
      " 25%|██▌       | 1/4 [00:03<00:11,  3.88s/it]"
     ]
    },
    {
     "name": "stdout",
     "output_type": "stream",
     "text": [
      "Validate: [0/4]\tTime  3.884 ( 3.884)\tLoss 9.5394e-01 (9.5394e-01)\tPrompt Acc@1  75.00 ( 75.00)\n"
     ]
    },
    {
     "name": "stderr",
     "output_type": "stream",
     "text": [
      "100%|██████████| 4/4 [00:05<00:00,  1.44s/it]\n"
     ]
    },
    {
     "name": "stdout",
     "output_type": "stream",
     "text": [
      " * Prompt Acc@1 74.387\n",
      "There's no improvement for 7 epochs.\n"
     ]
    },
    {
     "name": "stderr",
     "output_type": "stream",
     "text": [
      "  0%|          | 0/4 [00:00<?, ?it/s]"
     ]
    },
    {
     "name": "stdout",
     "output_type": "stream",
     "text": [
      "Epoch: [19][0/4]\tTime  3.334 ( 3.334)\tData  2.492 ( 2.492)\tLoss 9.0760e-01 (9.0760e-01)\tAcc@1  75.39 ( 75.39)\n"
     ]
    },
    {
     "name": "stderr",
     "output_type": "stream",
     "text": [
      "100%|██████████| 4/4 [00:10<00:00,  2.59s/it]\n",
      " 25%|██▌       | 1/4 [00:04<00:13,  4.39s/it]"
     ]
    },
    {
     "name": "stdout",
     "output_type": "stream",
     "text": [
      "Validate: [0/4]\tTime  4.390 ( 4.390)\tLoss 9.5604e-01 (9.5604e-01)\tPrompt Acc@1  74.22 ( 74.22)\n"
     ]
    },
    {
     "name": "stderr",
     "output_type": "stream",
     "text": [
      "100%|██████████| 4/4 [00:06<00:00,  1.57s/it]\n"
     ]
    },
    {
     "name": "stdout",
     "output_type": "stream",
     "text": [
      " * Prompt Acc@1 73.775\n",
      "There's no improvement for 8 epochs.\n"
     ]
    },
    {
     "name": "stderr",
     "output_type": "stream",
     "text": [
      "  0%|          | 0/4 [00:00<?, ?it/s]"
     ]
    },
    {
     "name": "stdout",
     "output_type": "stream",
     "text": [
      "Epoch: [20][0/4]\tTime  3.278 ( 3.278)\tData  2.431 ( 2.431)\tLoss 8.6142e-01 (8.6142e-01)\tAcc@1  75.39 ( 75.39)\n"
     ]
    },
    {
     "name": "stderr",
     "output_type": "stream",
     "text": [
      "100%|██████████| 4/4 [00:10<00:00,  2.55s/it]\n",
      " 25%|██▌       | 1/4 [00:03<00:11,  3.95s/it]"
     ]
    },
    {
     "name": "stdout",
     "output_type": "stream",
     "text": [
      "Validate: [0/4]\tTime  3.952 ( 3.952)\tLoss 9.5571e-01 (9.5571e-01)\tPrompt Acc@1  74.22 ( 74.22)\n"
     ]
    },
    {
     "name": "stderr",
     "output_type": "stream",
     "text": [
      "100%|██████████| 4/4 [00:05<00:00,  1.46s/it]\n"
     ]
    },
    {
     "name": "stdout",
     "output_type": "stream",
     "text": [
      " * Prompt Acc@1 73.407\n",
      "There's no improvement for 9 epochs.\n"
     ]
    },
    {
     "name": "stderr",
     "output_type": "stream",
     "text": [
      "  0%|          | 0/4 [00:00<?, ?it/s]"
     ]
    },
    {
     "name": "stdout",
     "output_type": "stream",
     "text": [
      "Epoch: [21][0/4]\tTime  3.612 ( 3.612)\tData  2.775 ( 2.775)\tLoss 9.2721e-01 (9.2721e-01)\tAcc@1  75.78 ( 75.78)\n"
     ]
    },
    {
     "name": "stderr",
     "output_type": "stream",
     "text": [
      "100%|██████████| 4/4 [00:10<00:00,  2.58s/it]\n",
      " 25%|██▌       | 1/4 [00:03<00:09,  3.32s/it]"
     ]
    },
    {
     "name": "stdout",
     "output_type": "stream",
     "text": [
      "Validate: [0/4]\tTime  3.322 ( 3.322)\tLoss 9.5495e-01 (9.5495e-01)\tPrompt Acc@1  74.22 ( 74.22)\n"
     ]
    },
    {
     "name": "stderr",
     "output_type": "stream",
     "text": [
      "100%|██████████| 4/4 [00:05<00:00,  1.31s/it]\n"
     ]
    },
    {
     "name": "stdout",
     "output_type": "stream",
     "text": [
      " * Prompt Acc@1 73.775\n",
      "There's no improvement for 10 epochs.\n"
     ]
    },
    {
     "name": "stderr",
     "output_type": "stream",
     "text": [
      "  0%|          | 0/4 [00:00<?, ?it/s]"
     ]
    },
    {
     "name": "stdout",
     "output_type": "stream",
     "text": [
      "Epoch: [22][0/4]\tTime  3.947 ( 3.947)\tData  3.130 ( 3.130)\tLoss 9.4167e-01 (9.4167e-01)\tAcc@1  72.27 ( 72.27)\n"
     ]
    },
    {
     "name": "stderr",
     "output_type": "stream",
     "text": [
      "100%|██████████| 4/4 [00:10<00:00,  2.66s/it]\n",
      " 25%|██▌       | 1/4 [00:03<00:11,  3.98s/it]"
     ]
    },
    {
     "name": "stdout",
     "output_type": "stream",
     "text": [
      "Validate: [0/4]\tTime  3.978 ( 3.978)\tLoss 9.4923e-01 (9.4923e-01)\tPrompt Acc@1  75.78 ( 75.78)\n"
     ]
    },
    {
     "name": "stderr",
     "output_type": "stream",
     "text": [
      "100%|██████████| 4/4 [00:05<00:00,  1.47s/it]\n"
     ]
    },
    {
     "name": "stdout",
     "output_type": "stream",
     "text": [
      " * Prompt Acc@1 74.510\n",
      "There's no improvement for 11 epochs.\n"
     ]
    },
    {
     "name": "stderr",
     "output_type": "stream",
     "text": [
      "  0%|          | 0/4 [00:00<?, ?it/s]"
     ]
    },
    {
     "name": "stdout",
     "output_type": "stream",
     "text": [
      "Epoch: [23][0/4]\tTime  3.900 ( 3.900)\tData  3.052 ( 3.052)\tLoss 8.3662e-01 (8.3662e-01)\tAcc@1  76.17 ( 76.17)\n"
     ]
    },
    {
     "name": "stderr",
     "output_type": "stream",
     "text": [
      "100%|██████████| 4/4 [00:10<00:00,  2.51s/it]\n",
      " 25%|██▌       | 1/4 [00:03<00:11,  3.84s/it]"
     ]
    },
    {
     "name": "stdout",
     "output_type": "stream",
     "text": [
      "Validate: [0/4]\tTime  3.845 ( 3.845)\tLoss 9.4415e-01 (9.4415e-01)\tPrompt Acc@1  76.17 ( 76.17)\n"
     ]
    },
    {
     "name": "stderr",
     "output_type": "stream",
     "text": [
      "100%|██████████| 4/4 [00:05<00:00,  1.43s/it]\n"
     ]
    },
    {
     "name": "stdout",
     "output_type": "stream",
     "text": [
      " * Prompt Acc@1 74.510\n",
      "There's no improvement for 12 epochs.\n"
     ]
    },
    {
     "name": "stderr",
     "output_type": "stream",
     "text": [
      "  0%|          | 0/4 [00:00<?, ?it/s]"
     ]
    },
    {
     "name": "stdout",
     "output_type": "stream",
     "text": [
      "Epoch: [24][0/4]\tTime  3.271 ( 3.271)\tData  2.419 ( 2.419)\tLoss 8.7052e-01 (8.7052e-01)\tAcc@1  75.39 ( 75.39)\n"
     ]
    },
    {
     "name": "stderr",
     "output_type": "stream",
     "text": [
      "100%|██████████| 4/4 [00:10<00:00,  2.50s/it]\n",
      " 25%|██▌       | 1/4 [00:03<00:11,  3.75s/it]"
     ]
    },
    {
     "name": "stdout",
     "output_type": "stream",
     "text": [
      "Validate: [0/4]\tTime  3.750 ( 3.750)\tLoss 9.4570e-01 (9.4570e-01)\tPrompt Acc@1  74.22 ( 74.22)\n"
     ]
    },
    {
     "name": "stderr",
     "output_type": "stream",
     "text": [
      "100%|██████████| 4/4 [00:05<00:00,  1.41s/it]\n"
     ]
    },
    {
     "name": "stdout",
     "output_type": "stream",
     "text": [
      " * Prompt Acc@1 73.897\n",
      "There's no improvement for 13 epochs.\n"
     ]
    },
    {
     "name": "stderr",
     "output_type": "stream",
     "text": [
      "  0%|          | 0/4 [00:00<?, ?it/s]"
     ]
    },
    {
     "name": "stdout",
     "output_type": "stream",
     "text": [
      "Epoch: [25][0/4]\tTime  3.279 ( 3.279)\tData  2.440 ( 2.440)\tLoss 9.4370e-01 (9.4370e-01)\tAcc@1  72.27 ( 72.27)\n"
     ]
    },
    {
     "name": "stderr",
     "output_type": "stream",
     "text": [
      "100%|██████████| 4/4 [00:10<00:00,  2.50s/it]\n",
      " 25%|██▌       | 1/4 [00:03<00:11,  3.89s/it]"
     ]
    },
    {
     "name": "stdout",
     "output_type": "stream",
     "text": [
      "Validate: [0/4]\tTime  3.886 ( 3.886)\tLoss 9.4464e-01 (9.4464e-01)\tPrompt Acc@1  74.61 ( 74.61)\n"
     ]
    },
    {
     "name": "stderr",
     "output_type": "stream",
     "text": [
      "100%|██████████| 4/4 [00:05<00:00,  1.45s/it]\n"
     ]
    },
    {
     "name": "stdout",
     "output_type": "stream",
     "text": [
      " * Prompt Acc@1 74.142\n",
      "There's no improvement for 14 epochs.\n"
     ]
    },
    {
     "name": "stderr",
     "output_type": "stream",
     "text": [
      "  0%|          | 0/4 [00:00<?, ?it/s]"
     ]
    },
    {
     "name": "stdout",
     "output_type": "stream",
     "text": [
      "Epoch: [26][0/4]\tTime  3.886 ( 3.886)\tData  3.049 ( 3.049)\tLoss 8.0158e-01 (8.0158e-01)\tAcc@1  74.61 ( 74.61)\n"
     ]
    },
    {
     "name": "stderr",
     "output_type": "stream",
     "text": [
      "100%|██████████| 4/4 [00:10<00:00,  2.65s/it]\n",
      " 25%|██▌       | 1/4 [00:03<00:11,  3.87s/it]"
     ]
    },
    {
     "name": "stdout",
     "output_type": "stream",
     "text": [
      "Validate: [0/4]\tTime  3.874 ( 3.874)\tLoss 9.4418e-01 (9.4418e-01)\tPrompt Acc@1  76.17 ( 76.17)\n"
     ]
    },
    {
     "name": "stderr",
     "output_type": "stream",
     "text": [
      "100%|██████████| 4/4 [00:05<00:00,  1.44s/it]\n"
     ]
    },
    {
     "name": "stdout",
     "output_type": "stream",
     "text": [
      " * Prompt Acc@1 74.632\n",
      "There's no improvement for 15 epochs.\n"
     ]
    },
    {
     "name": "stderr",
     "output_type": "stream",
     "text": [
      "  0%|          | 0/4 [00:00<?, ?it/s]"
     ]
    },
    {
     "name": "stdout",
     "output_type": "stream",
     "text": [
      "Epoch: [27][0/4]\tTime  4.100 ( 4.100)\tData  3.280 ( 3.280)\tLoss 9.3437e-01 (9.3437e-01)\tAcc@1  73.44 ( 73.44)\n"
     ]
    },
    {
     "name": "stderr",
     "output_type": "stream",
     "text": [
      "100%|██████████| 4/4 [00:10<00:00,  2.68s/it]\n",
      " 25%|██▌       | 1/4 [00:03<00:11,  3.87s/it]"
     ]
    },
    {
     "name": "stdout",
     "output_type": "stream",
     "text": [
      "Validate: [0/4]\tTime  3.869 ( 3.869)\tLoss 9.4491e-01 (9.4491e-01)\tPrompt Acc@1  75.78 ( 75.78)\n"
     ]
    },
    {
     "name": "stderr",
     "output_type": "stream",
     "text": [
      "100%|██████████| 4/4 [00:05<00:00,  1.44s/it]\n"
     ]
    },
    {
     "name": "stdout",
     "output_type": "stream",
     "text": [
      " * Prompt Acc@1 74.632\n",
      "There's no improvement for 16 epochs.\n"
     ]
    },
    {
     "name": "stderr",
     "output_type": "stream",
     "text": [
      "  0%|          | 0/4 [00:00<?, ?it/s]"
     ]
    },
    {
     "name": "stdout",
     "output_type": "stream",
     "text": [
      "Epoch: [28][0/4]\tTime  4.436 ( 4.436)\tData  3.626 ( 3.626)\tLoss 8.5942e-01 (8.5942e-01)\tAcc@1  76.95 ( 76.95)\n"
     ]
    },
    {
     "name": "stderr",
     "output_type": "stream",
     "text": [
      "100%|██████████| 4/4 [00:11<00:00,  2.78s/it]\n",
      " 25%|██▌       | 1/4 [00:04<00:12,  4.08s/it]"
     ]
    },
    {
     "name": "stdout",
     "output_type": "stream",
     "text": [
      "Validate: [0/4]\tTime  4.077 ( 4.077)\tLoss 9.4318e-01 (9.4318e-01)\tPrompt Acc@1  75.39 ( 75.39)\n"
     ]
    },
    {
     "name": "stderr",
     "output_type": "stream",
     "text": [
      "100%|██████████| 4/4 [00:05<00:00,  1.49s/it]\n"
     ]
    },
    {
     "name": "stdout",
     "output_type": "stream",
     "text": [
      " * Prompt Acc@1 73.652\n",
      "There's no improvement for 17 epochs.\n"
     ]
    },
    {
     "name": "stderr",
     "output_type": "stream",
     "text": [
      "  0%|          | 0/4 [00:00<?, ?it/s]"
     ]
    },
    {
     "name": "stdout",
     "output_type": "stream",
     "text": [
      "Epoch: [29][0/4]\tTime  3.953 ( 3.953)\tData  3.109 ( 3.109)\tLoss 8.7940e-01 (8.7940e-01)\tAcc@1  72.66 ( 72.66)\n"
     ]
    },
    {
     "name": "stderr",
     "output_type": "stream",
     "text": [
      "100%|██████████| 4/4 [00:10<00:00,  2.72s/it]\n",
      " 25%|██▌       | 1/4 [00:03<00:11,  3.91s/it]"
     ]
    },
    {
     "name": "stdout",
     "output_type": "stream",
     "text": [
      "Validate: [0/4]\tTime  3.915 ( 3.915)\tLoss 9.4392e-01 (9.4392e-01)\tPrompt Acc@1  75.78 ( 75.78)\n"
     ]
    },
    {
     "name": "stderr",
     "output_type": "stream",
     "text": [
      "100%|██████████| 4/4 [00:05<00:00,  1.45s/it]\n"
     ]
    },
    {
     "name": "stdout",
     "output_type": "stream",
     "text": [
      " * Prompt Acc@1 74.142\n",
      "There's no improvement for 18 epochs.\n"
     ]
    },
    {
     "name": "stderr",
     "output_type": "stream",
     "text": [
      "  0%|          | 0/4 [00:00<?, ?it/s]"
     ]
    },
    {
     "name": "stdout",
     "output_type": "stream",
     "text": [
      "Epoch: [30][0/4]\tTime  3.985 ( 3.985)\tData  3.137 ( 3.137)\tLoss 9.1937e-01 (9.1937e-01)\tAcc@1  72.27 ( 72.27)\n"
     ]
    },
    {
     "name": "stderr",
     "output_type": "stream",
     "text": [
      "100%|██████████| 4/4 [00:10<00:00,  2.66s/it]\n",
      " 25%|██▌       | 1/4 [00:03<00:11,  3.96s/it]"
     ]
    },
    {
     "name": "stdout",
     "output_type": "stream",
     "text": [
      "Validate: [0/4]\tTime  3.956 ( 3.956)\tLoss 9.4851e-01 (9.4851e-01)\tPrompt Acc@1  74.61 ( 74.61)\n"
     ]
    },
    {
     "name": "stderr",
     "output_type": "stream",
     "text": [
      "100%|██████████| 4/4 [00:05<00:00,  1.46s/it]\n"
     ]
    },
    {
     "name": "stdout",
     "output_type": "stream",
     "text": [
      " * Prompt Acc@1 74.265\n",
      "There's no improvement for 19 epochs.\n"
     ]
    },
    {
     "name": "stderr",
     "output_type": "stream",
     "text": [
      "  0%|          | 0/4 [00:00<?, ?it/s]"
     ]
    },
    {
     "name": "stdout",
     "output_type": "stream",
     "text": [
      "Epoch: [31][0/4]\tTime  3.997 ( 3.997)\tData  3.172 ( 3.172)\tLoss 7.8915e-01 (7.8915e-01)\tAcc@1  77.34 ( 77.34)\n"
     ]
    },
    {
     "name": "stderr",
     "output_type": "stream",
     "text": [
      "100%|██████████| 4/4 [00:10<00:00,  2.69s/it]\n",
      " 25%|██▌       | 1/4 [00:03<00:11,  3.98s/it]"
     ]
    },
    {
     "name": "stdout",
     "output_type": "stream",
     "text": [
      "Validate: [0/4]\tTime  3.984 ( 3.984)\tLoss 9.5260e-01 (9.5260e-01)\tPrompt Acc@1  73.83 ( 73.83)\n"
     ]
    },
    {
     "name": "stderr",
     "output_type": "stream",
     "text": [
      "100%|██████████| 4/4 [00:05<00:00,  1.47s/it]\n"
     ]
    },
    {
     "name": "stdout",
     "output_type": "stream",
     "text": [
      " * Prompt Acc@1 74.265\n",
      "There's no improvement for 20 epochs.\n",
      "The training halted by early stopping criterion.\n"
     ]
    },
    {
     "name": "stderr",
     "output_type": "stream",
     "text": [
      " 10%|█         | 1/10 [00:04<00:42,  4.78s/it]"
     ]
    },
    {
     "name": "stdout",
     "output_type": "stream",
     "text": [
      "Validate: [ 0/10]\tTime  4.774 ( 4.774)\tLoss 1.7732e+00 (1.7732e+00)\tPrompt Acc@1  73.05 ( 73.05)\n"
     ]
    },
    {
     "name": "stderr",
     "output_type": "stream",
     "text": [
      "100%|██████████| 10/10 [00:12<00:00,  1.21s/it]\n"
     ]
    },
    {
     "name": "stdout",
     "output_type": "stream",
     "text": [
      " * Prompt Acc@1 71.417\n"
     ]
    },
    {
     "name": "stderr",
     "output_type": "stream",
     "text": [
      " 20%|██        | 1/5 [00:04<00:19,  4.83s/it]"
     ]
    },
    {
     "name": "stdout",
     "output_type": "stream",
     "text": [
      "Validate: [0/5]\tTime  4.833 ( 4.833)\tLoss 6.4186e-01 (6.4186e-01)\tPrompt Acc@1  86.72 ( 86.72)\n"
     ]
    },
    {
     "name": "stderr",
     "output_type": "stream",
     "text": [
      "100%|██████████| 5/5 [00:07<00:00,  1.49s/it]\n"
     ]
    },
    {
     "name": "stdout",
     "output_type": "stream",
     "text": [
      " * Prompt Acc@1 75.973\n"
     ]
    },
    {
     "name": "stderr",
     "output_type": "stream",
     "text": [
      " 17%|█▋        | 1/6 [00:04<00:21,  4.40s/it]"
     ]
    },
    {
     "name": "stdout",
     "output_type": "stream",
     "text": [
      "Validate: [0/6]\tTime  4.396 ( 4.396)\tLoss 1.5499e+00 (1.5499e+00)\tPrompt Acc@1  73.44 ( 73.44)\n"
     ]
    },
    {
     "name": "stderr",
     "output_type": "stream",
     "text": [
      "100%|██████████| 6/6 [00:08<00:00,  1.37s/it]"
     ]
    },
    {
     "name": "stdout",
     "output_type": "stream",
     "text": [
      " * Prompt Acc@1 75.319\n"
     ]
    },
    {
     "name": "stderr",
     "output_type": "stream",
     "text": [
      "\n"
     ]
    }
   ],
   "source": [
    "for train_subsample in TRAIN_SUBSAMPLES:\n",
    "    for dataset_name in DATASETS:\n",
    "        print(f\"Training {MODEL_TYPE} on {dataset_name} on {train_subsample} subsample.\")\n",
    "        \n",
    "        _dataset = DatasetInitializer.from_str(dataset_name).value(train=True)\n",
    "        labels = _dataset.labels\n",
    "        prompt_template = PROMPTS[dataset_name]\n",
    "        num_of_classes = len(labels) // 2 if train_subsample == \"base\" else len(labels)\n",
    "        #num_of_classes = len(labels) - (len(labels) // 5) if train_subsample == \"base\" else len(labels)\n",
    "        train_eval_size = [NUM_OF_SAMPLES * num_of_classes, NUM_OF_SAMPLES * num_of_classes]\n",
    "\n",
    "        learner_args = LearnerArgs(model_type=MODEL_TYPE, dataset=dataset_name)\n",
    "        learner_args.device = \"cuda\"\n",
    "        learner_args.epochs = 200\n",
    "        learner_args.model_type = MODEL_TYPE\n",
    "        learner_args.train_eval_size = train_eval_size\n",
    "        learner_args.text_prompt_template = prompt_template\n",
    "        learner_args.print_freq = 200\n",
    "        learner_args.save_freq = 200\n",
    "        learner_args.learning_rate = 5e-3\n",
    "        learner_args.use_wandb = True\n",
    "        learner_args.patience = 20\n",
    "        learner_args.info = \"test\"\n",
    "        learner_args.batch_size = 256\n",
    "        learner_args.momentum = 0.5\n",
    "        learner_args.train_subsample = train_subsample\n",
    "        learner_args.dataset = dataset_name\n",
    "\n",
    "        learner = Learner(learner_args)\n",
    "        learner.run()"
   ]
  },
  {
   "cell_type": "code",
   "execution_count": null,
   "metadata": {},
   "outputs": [],
   "source": []
  }
 ],
 "metadata": {
  "environment": {
   "kernel": "fomo",
   "name": "common-cu121.m121",
   "type": "gcloud",
   "uri": "us-docker.pkg.dev/deeplearning-platform-release/gcr.io/base-cu121:m121"
  },
  "kernelspec": {
   "display_name": "fomo (Local)",
   "language": "python",
   "name": "fomo"
  },
  "language_info": {
   "codemirror_mode": {
    "name": "ipython",
    "version": 3
   },
   "file_extension": ".py",
   "mimetype": "text/x-python",
   "name": "python",
   "nbconvert_exporter": "python",
   "pygments_lexer": "ipython3",
   "version": "3.11.6"
  }
 },
 "nbformat": 4,
 "nbformat_minor": 4
}
