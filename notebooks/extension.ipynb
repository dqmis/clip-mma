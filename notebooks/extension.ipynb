{
 "cells": [
  {
   "cell_type": "code",
   "execution_count": 1,
   "metadata": {
    "tags": []
   },
   "outputs": [
    {
     "name": "stderr",
     "output_type": "stream",
     "text": [
      "/home/jupyter/github/fomo/.venv/lib/python3.11/site-packages/tqdm/auto.py:21: TqdmWarning: IProgress not found. Please update jupyter and ipywidgets. See https://ipywidgets.readthedocs.io/en/stable/user_install.html\n",
      "  from .autonotebook import tqdm as notebook_tqdm\n"
     ]
    }
   ],
   "source": [
    "from fomo.pipelines.train import Learner\n",
    "from fomo.pipelines.types.learner_args import LearnerArgs\n",
    "import torch"
   ]
  },
  {
   "cell_type": "code",
   "execution_count": 2,
   "metadata": {
    "tags": []
   },
   "outputs": [
    {
     "name": "stdout",
     "output_type": "stream",
     "text": [
      "Turning off gradients in both the image and the text encoder\n",
      "Parameters to be updated: {'adapter.mha.in_proj_bias', 'adapter.downsampler.1.weight', 'adapter.mha.out_proj.bias', 'image_adapter.fc.0.weight', 'adapter.downsampler.0.weight', 'adapter.upsampler.2.weight', 'adapter.upsampler.0.bias', 'adapter.upsampler.0.weight', 'adapter.upsampler.2.bias', 'image_adapter.fc.2.weight', 'adapter.downsampler.1.bias', 'adapter.mha.in_proj_weight', 'adapter.downsampler.0.bias', 'adapter.mha.out_proj.weight'}\n",
      "Number of learnable paramms: 238784\n"
     ]
    }
   ],
   "source": [
    "learner_args = LearnerArgs()\n",
    "learner_args.device = \"cuda\"\n",
    "learner_args.epochs = 200\n",
    "learner_args.model_type = \"clip_transformer_adapter_text\"\n",
    "learner_args.train_eval_size = [816, 816]\n",
    "learner_args.text_prompt_template = \"a photo of a {}, a type of flower\"\n",
    "#learner_args.text_prompt_template = \"a photo of a {}.\"\n",
    "learner_args.print_freq = 200\n",
    "learner_args.save_freq = 200\n",
    "learner_args.learning_rate = 5e-3\n",
    "learner_args.use_wandb = True\n",
    "learner_args.patience = 10\n",
    "learner_args.batch_size = 256\n",
    "learner_args.momentum = 0.5\n",
    "learner_args.train_subsample = \"base\"\n",
    "learner_args.dataset = \"oxford_flowers\"\n",
    "#learner_args.dataset = \"cifar10\"\n",
    "\n",
    "\n",
    "learner = Learner(learner_args)"
   ]
  },
  {
   "cell_type": "code",
   "execution_count": null,
   "metadata": {
    "tags": []
   },
   "outputs": [
    {
     "name": "stderr",
     "output_type": "stream",
     "text": [
      "ERROR:wandb.jupyter:Failed to detect the name of this notebook, you can set it manually with the WANDB_NOTEBOOK_NAME environment variable to enable code saving.\n",
      "\u001b[34m\u001b[1mwandb\u001b[0m: Currently logged in as: \u001b[33mdqmiss\u001b[0m. Use \u001b[1m`wandb login --relogin`\u001b[0m to force relogin\n"
     ]
    },
    {
     "data": {
      "text/html": [
       "wandb version 0.17.0 is available!  To upgrade, please run:\n",
       " $ pip install wandb --upgrade"
      ],
      "text/plain": [
       "<IPython.core.display.HTML object>"
      ]
     },
     "metadata": {},
     "output_type": "display_data"
    },
    {
     "data": {
      "text/html": [
       "Tracking run with wandb version 0.16.6"
      ],
      "text/plain": [
       "<IPython.core.display.HTML object>"
      ]
     },
     "metadata": {},
     "output_type": "display_data"
    },
    {
     "data": {
      "text/html": [
       "Run data is saved locally in <code>/home/jupyter/github/fomo/notebooks/wandb/run-20240525_190844-he5twr4r</code>"
      ],
      "text/plain": [
       "<IPython.core.display.HTML object>"
      ]
     },
     "metadata": {},
     "output_type": "display_data"
    },
    {
     "data": {
      "text/html": [
       "Syncing run <strong><a href='https://wandb.ai/dqmiss/fomo/runs/he5twr4r' target=\"_blank\">clip_base_vit-b16_1716664064</a></strong> to <a href='https://wandb.ai/dqmiss/fomo' target=\"_blank\">Weights & Biases</a> (<a href='https://wandb.me/run' target=\"_blank\">docs</a>)<br/>"
      ],
      "text/plain": [
       "<IPython.core.display.HTML object>"
      ]
     },
     "metadata": {},
     "output_type": "display_data"
    },
    {
     "data": {
      "text/html": [
       " View project at <a href='https://wandb.ai/dqmiss/fomo' target=\"_blank\">https://wandb.ai/dqmiss/fomo</a>"
      ],
      "text/plain": [
       "<IPython.core.display.HTML object>"
      ]
     },
     "metadata": {},
     "output_type": "display_data"
    },
    {
     "data": {
      "text/html": [
       " View run at <a href='https://wandb.ai/dqmiss/fomo/runs/he5twr4r' target=\"_blank\">https://wandb.ai/dqmiss/fomo/runs/he5twr4r</a>"
      ],
      "text/plain": [
       "<IPython.core.display.HTML object>"
      ]
     },
     "metadata": {},
     "output_type": "display_data"
    },
    {
     "name": "stderr",
     "output_type": "stream",
     "text": [
      "  0%|          | 0/4 [00:00<?, ?it/s]"
     ]
    },
    {
     "name": "stdout",
     "output_type": "stream",
     "text": [
      "Epoch: [0][0/4]\tTime  4.632 ( 4.632)\tData  3.237 ( 3.237)\tLoss 1.1008e+00 (1.1008e+00)\tAcc@1  74.61 ( 74.61)\n"
     ]
    },
    {
     "name": "stderr",
     "output_type": "stream",
     "text": [
      "100%|██████████| 4/4 [00:07<00:00,  1.82s/it]\n",
      " 25%|██▌       | 1/4 [00:03<00:11,  3.81s/it]"
     ]
    },
    {
     "name": "stdout",
     "output_type": "stream",
     "text": [
      "Validate: [0/4]\tTime  3.810 ( 3.810)\tLoss 1.0277e+00 (1.0277e+00)\tPrompt Acc@1  71.88 ( 71.88)\n"
     ]
    },
    {
     "name": "stderr",
     "output_type": "stream",
     "text": [
      "100%|██████████| 4/4 [00:05<00:00,  1.48s/it]\n"
     ]
    },
    {
     "name": "stdout",
     "output_type": "stream",
     "text": [
      " * Prompt Acc@1 72.426\n",
      "saved best file\n"
     ]
    },
    {
     "name": "stderr",
     "output_type": "stream",
     "text": [
      "  0%|          | 0/4 [00:00<?, ?it/s]"
     ]
    },
    {
     "name": "stdout",
     "output_type": "stream",
     "text": [
      "Epoch: [1][0/4]\tTime  3.831 ( 3.831)\tData  2.885 ( 2.885)\tLoss 9.5409e-01 (9.5409e-01)\tAcc@1  70.70 ( 70.70)\n"
     ]
    },
    {
     "name": "stderr",
     "output_type": "stream",
     "text": [
      "100%|██████████| 4/4 [00:10<00:00,  2.64s/it]\n",
      " 25%|██▌       | 1/4 [00:03<00:11,  3.89s/it]"
     ]
    },
    {
     "name": "stdout",
     "output_type": "stream",
     "text": [
      "Validate: [0/4]\tTime  3.893 ( 3.893)\tLoss 9.9043e-01 (9.9043e-01)\tPrompt Acc@1  73.83 ( 73.83)\n"
     ]
    },
    {
     "name": "stderr",
     "output_type": "stream",
     "text": [
      "100%|██████████| 4/4 [00:05<00:00,  1.49s/it]\n"
     ]
    },
    {
     "name": "stdout",
     "output_type": "stream",
     "text": [
      " * Prompt Acc@1 73.162\n",
      "saved best file\n"
     ]
    },
    {
     "name": "stderr",
     "output_type": "stream",
     "text": [
      "  0%|          | 0/4 [00:00<?, ?it/s]"
     ]
    },
    {
     "name": "stdout",
     "output_type": "stream",
     "text": [
      "Epoch: [2][0/4]\tTime  3.804 ( 3.804)\tData  2.889 ( 2.889)\tLoss 9.5669e-01 (9.5669e-01)\tAcc@1  73.83 ( 73.83)\n"
     ]
    },
    {
     "name": "stderr",
     "output_type": "stream",
     "text": [
      "100%|██████████| 4/4 [00:10<00:00,  2.65s/it]\n",
      " 25%|██▌       | 1/4 [00:03<00:11,  3.77s/it]"
     ]
    },
    {
     "name": "stdout",
     "output_type": "stream",
     "text": [
      "Validate: [0/4]\tTime  3.774 ( 3.774)\tLoss 9.7612e-01 (9.7612e-01)\tPrompt Acc@1  74.22 ( 74.22)\n"
     ]
    },
    {
     "name": "stderr",
     "output_type": "stream",
     "text": [
      "100%|██████████| 4/4 [00:05<00:00,  1.45s/it]\n"
     ]
    },
    {
     "name": "stdout",
     "output_type": "stream",
     "text": [
      " * Prompt Acc@1 73.407\n",
      "saved best file\n"
     ]
    },
    {
     "name": "stderr",
     "output_type": "stream",
     "text": [
      "  0%|          | 0/4 [00:00<?, ?it/s]"
     ]
    },
    {
     "name": "stdout",
     "output_type": "stream",
     "text": [
      "Epoch: [3][0/4]\tTime  3.839 ( 3.839)\tData  2.924 ( 2.924)\tLoss 8.5240e-01 (8.5240e-01)\tAcc@1  76.17 ( 76.17)\n"
     ]
    },
    {
     "name": "stderr",
     "output_type": "stream",
     "text": [
      "100%|██████████| 4/4 [00:10<00:00,  2.71s/it]\n",
      " 25%|██▌       | 1/4 [00:03<00:11,  3.77s/it]"
     ]
    },
    {
     "name": "stdout",
     "output_type": "stream",
     "text": [
      "Validate: [0/4]\tTime  3.772 ( 3.772)\tLoss 9.9186e-01 (9.9186e-01)\tPrompt Acc@1  73.05 ( 73.05)\n"
     ]
    },
    {
     "name": "stderr",
     "output_type": "stream",
     "text": [
      "100%|██████████| 4/4 [00:05<00:00,  1.46s/it]\n"
     ]
    },
    {
     "name": "stdout",
     "output_type": "stream",
     "text": [
      " * Prompt Acc@1 73.529\n",
      "saved best file\n"
     ]
    },
    {
     "name": "stderr",
     "output_type": "stream",
     "text": [
      "  0%|          | 0/4 [00:00<?, ?it/s]"
     ]
    },
    {
     "name": "stdout",
     "output_type": "stream",
     "text": [
      "Epoch: [4][0/4]\tTime  3.952 ( 3.952)\tData  3.023 ( 3.023)\tLoss 1.0190e+00 (1.0190e+00)\tAcc@1  69.14 ( 69.14)\n"
     ]
    },
    {
     "name": "stderr",
     "output_type": "stream",
     "text": [
      "100%|██████████| 4/4 [00:10<00:00,  2.70s/it]\n",
      " 25%|██▌       | 1/4 [00:03<00:11,  3.82s/it]"
     ]
    },
    {
     "name": "stdout",
     "output_type": "stream",
     "text": [
      "Validate: [0/4]\tTime  3.818 ( 3.818)\tLoss 9.7847e-01 (9.7847e-01)\tPrompt Acc@1  75.00 ( 75.00)\n"
     ]
    },
    {
     "name": "stderr",
     "output_type": "stream",
     "text": [
      "100%|██████████| 4/4 [00:05<00:00,  1.47s/it]\n"
     ]
    },
    {
     "name": "stdout",
     "output_type": "stream",
     "text": [
      " * Prompt Acc@1 74.142\n",
      "saved best file\n"
     ]
    },
    {
     "name": "stderr",
     "output_type": "stream",
     "text": [
      "  0%|          | 0/4 [00:00<?, ?it/s]"
     ]
    },
    {
     "name": "stdout",
     "output_type": "stream",
     "text": [
      "Epoch: [5][0/4]\tTime  3.854 ( 3.854)\tData  2.929 ( 2.929)\tLoss 9.9701e-01 (9.9701e-01)\tAcc@1  73.44 ( 73.44)\n"
     ]
    },
    {
     "name": "stderr",
     "output_type": "stream",
     "text": [
      "100%|██████████| 4/4 [00:10<00:00,  2.68s/it]\n",
      " 25%|██▌       | 1/4 [00:04<00:12,  4.15s/it]"
     ]
    },
    {
     "name": "stdout",
     "output_type": "stream",
     "text": [
      "Validate: [0/4]\tTime  4.152 ( 4.152)\tLoss 9.7087e-01 (9.7087e-01)\tPrompt Acc@1  74.61 ( 74.61)\n"
     ]
    },
    {
     "name": "stderr",
     "output_type": "stream",
     "text": [
      "100%|██████████| 4/4 [00:06<00:00,  1.55s/it]\n"
     ]
    },
    {
     "name": "stdout",
     "output_type": "stream",
     "text": [
      " * Prompt Acc@1 73.775\n",
      "There's no improvement for 1 epochs.\n"
     ]
    },
    {
     "name": "stderr",
     "output_type": "stream",
     "text": [
      "  0%|          | 0/4 [00:00<?, ?it/s]"
     ]
    },
    {
     "name": "stdout",
     "output_type": "stream",
     "text": [
      "Epoch: [6][0/4]\tTime  3.888 ( 3.888)\tData  2.963 ( 2.963)\tLoss 9.4595e-01 (9.4595e-01)\tAcc@1  72.27 ( 72.27)\n"
     ]
    },
    {
     "name": "stderr",
     "output_type": "stream",
     "text": [
      "100%|██████████| 4/4 [00:10<00:00,  2.70s/it]\n",
      " 25%|██▌       | 1/4 [00:03<00:09,  3.17s/it]"
     ]
    },
    {
     "name": "stdout",
     "output_type": "stream",
     "text": [
      "Validate: [0/4]\tTime  3.167 ( 3.167)\tLoss 9.7117e-01 (9.7117e-01)\tPrompt Acc@1  73.44 ( 73.44)\n"
     ]
    },
    {
     "name": "stderr",
     "output_type": "stream",
     "text": [
      "100%|██████████| 4/4 [00:05<00:00,  1.32s/it]\n"
     ]
    },
    {
     "name": "stdout",
     "output_type": "stream",
     "text": [
      " * Prompt Acc@1 73.775\n",
      "There's no improvement for 2 epochs.\n"
     ]
    },
    {
     "name": "stderr",
     "output_type": "stream",
     "text": [
      "  0%|          | 0/4 [00:00<?, ?it/s]"
     ]
    },
    {
     "name": "stdout",
     "output_type": "stream",
     "text": [
      "Epoch: [7][0/4]\tTime  3.975 ( 3.975)\tData  3.050 ( 3.050)\tLoss 9.0459e-01 (9.0459e-01)\tAcc@1  77.34 ( 77.34)\n"
     ]
    },
    {
     "name": "stderr",
     "output_type": "stream",
     "text": [
      "100%|██████████| 4/4 [00:10<00:00,  2.66s/it]\n",
      " 25%|██▌       | 1/4 [00:03<00:11,  3.78s/it]"
     ]
    },
    {
     "name": "stdout",
     "output_type": "stream",
     "text": [
      "Validate: [0/4]\tTime  3.778 ( 3.778)\tLoss 9.6318e-01 (9.6318e-01)\tPrompt Acc@1  74.22 ( 74.22)\n"
     ]
    },
    {
     "name": "stderr",
     "output_type": "stream",
     "text": [
      "100%|██████████| 4/4 [00:05<00:00,  1.46s/it]\n"
     ]
    },
    {
     "name": "stdout",
     "output_type": "stream",
     "text": [
      " * Prompt Acc@1 74.510\n",
      "saved best file\n"
     ]
    },
    {
     "name": "stderr",
     "output_type": "stream",
     "text": [
      "  0%|          | 0/4 [00:00<?, ?it/s]"
     ]
    },
    {
     "name": "stdout",
     "output_type": "stream",
     "text": [
      "Epoch: [8][0/4]\tTime  3.837 ( 3.837)\tData  2.918 ( 2.918)\tLoss 9.4440e-01 (9.4440e-01)\tAcc@1  71.88 ( 71.88)\n"
     ]
    },
    {
     "name": "stderr",
     "output_type": "stream",
     "text": [
      "100%|██████████| 4/4 [00:10<00:00,  2.67s/it]\n",
      " 25%|██▌       | 1/4 [00:03<00:10,  3.59s/it]"
     ]
    },
    {
     "name": "stdout",
     "output_type": "stream",
     "text": [
      "Validate: [0/4]\tTime  3.588 ( 3.588)\tLoss 9.6506e-01 (9.6506e-01)\tPrompt Acc@1  75.00 ( 75.00)\n"
     ]
    },
    {
     "name": "stderr",
     "output_type": "stream",
     "text": [
      "100%|██████████| 4/4 [00:05<00:00,  1.41s/it]\n"
     ]
    },
    {
     "name": "stdout",
     "output_type": "stream",
     "text": [
      " * Prompt Acc@1 74.877\n"
     ]
    }
   ],
   "source": [
    "learner.run()"
   ]
  },
  {
   "cell_type": "code",
   "execution_count": null,
   "metadata": {},
   "outputs": [],
   "source": []
  }
 ],
 "metadata": {
  "environment": {
   "kernel": "fomo",
   "name": "common-cu121.m121",
   "type": "gcloud",
   "uri": "us-docker.pkg.dev/deeplearning-platform-release/gcr.io/base-cu121:m121"
  },
  "kernelspec": {
   "display_name": "fomo (Local)",
   "language": "python",
   "name": "fomo"
  },
  "language_info": {
   "codemirror_mode": {
    "name": "ipython",
    "version": 3
   },
   "file_extension": ".py",
   "mimetype": "text/x-python",
   "name": "python",
   "nbconvert_exporter": "python",
   "pygments_lexer": "ipython3",
   "version": "3.11.6"
  }
 },
 "nbformat": 4,
 "nbformat_minor": 4
}
