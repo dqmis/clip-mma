{
 "cells": [
  {
   "cell_type": "code",
   "execution_count": 3,
   "metadata": {},
   "outputs": [
    {
     "name": "stderr",
     "output_type": "stream",
     "text": [
      "\u001b[34m\u001b[1mwandb\u001b[0m: \u001b[33mWARNING\u001b[0m Calling wandb.login() after wandb.init() has no effect.\n"
     ]
    },
    {
     "name": "stdout",
     "output_type": "stream",
     "text": [
      "Create sweep with ID: lnboohyq\n",
      "Sweep URL: https://wandb.ai/serghei-m/fomo/sweeps/lnboohyq\n"
     ]
    },
    {
     "name": "stderr",
     "output_type": "stream",
     "text": [
      "\u001b[34m\u001b[1mwandb\u001b[0m: Ctrl + C detected. Stopping sweep.\n"
     ]
    }
   ],
   "source": [
    "import wandb\n",
    "\n",
    "parameters_dict = {\n",
    "    \"lr\": {\"values\": [1e-4, 1e-3, 1e-2]},\n",
    "    \"weight_decay\": {\"values\": [1e-4, 1e-2]},\n",
    "    \"momentum\": {\"values\": [0.5, 0.9]},\n",
    "    \"model_type\": {\"values\": [\n",
    "        \"clip_base\",\n",
    "        \"clip_transformer_downscaled\",\n",
    "        \"clip_mm_mlp_adapter\",\n",
    "        \"clip_transformer_w_hypernet\",\n",
    "        \"clip_adapter\",\n",
    "    ]},\n",
    "}\n",
    "\n",
    "sweep_config = {\"method\": \"random\", \"parameters\": parameters_dict}\n",
    "\n",
    "sweep_id = wandb.sweep(sweep_config, project=\"fomo\")\n",
    "\n",
    "from fomo.pipelines.train import Learner\n",
    "from fomo.pipelines.types.learner_args import LearnerArgs\n",
    "\n",
    "\n",
    "def train(config=None):\n",
    "    with wandb.init(config=config):\n",
    "        # set sweep configuration\n",
    "        config = wandb.config\n",
    "        learner_args = LearnerArgs()\n",
    "        learner_args.epochs = 15\n",
    "        learner_args.patience = 10\n",
    "        learner_args.print_freq = 50\n",
    "        learner_args.save_freq = 200\n",
    "        learner_args.learning_rate = config[\"lr\"]\n",
    "        learner_args.momentum = config[\"momentum\"]\n",
    "        learner_args.weight_decay =  config[\"weight_decay\"]\n",
    "        learner_args.use_wandb = True\n",
    "        learner_args.dataset = 'oxford_pets'\n",
    "        learner_args.model_type = config[\"model_type\"]\n",
    "        # learner_args.dataloder_type = 'n_class_k_shot'\n",
    "        # learner_args.n = 5\n",
    "        # learner_args.k = 16\n",
    "        learner_args.train_size = None # 0.8\n",
    "        learner_args.train_eval_size = [592,592]\n",
    "        learner_args.batch_size = 64\n",
    "\n",
    "\n",
    "        learner = Learner(learner_args)\n",
    "\n",
    "        learner.run()\n",
    "\n",
    "wandb.agent(sweep_id, train)"
   ]
  },
  {
   "cell_type": "code",
   "execution_count": null,
   "metadata": {},
   "outputs": [],
   "source": []
  }
 ],
 "metadata": {
  "environment": {
   "kernel": "fomo",
   "name": "common-cu121.m121",
   "type": "gcloud",
   "uri": "us-docker.pkg.dev/deeplearning-platform-release/gcr.io/base-cu121:m121"
  },
  "kernelspec": {
   "display_name": "fomo (Local)",
   "language": "python",
   "name": "fomo"
  },
  "language_info": {
   "codemirror_mode": {
    "name": "ipython",
    "version": 3
   },
   "file_extension": ".py",
   "mimetype": "text/x-python",
   "name": "python",
   "nbconvert_exporter": "python",
   "pygments_lexer": "ipython3",
   "version": "3.11.6"
  }
 },
 "nbformat": 4,
 "nbformat_minor": 4
}
